{
  "nbformat": 4,
  "nbformat_minor": 0,
  "metadata": {
    "colab": {
      "name": "EDA.ipynb",
      "provenance": [],
      "toc_visible": true,
      "authorship_tag": "ABX9TyPImTQO9aoiqXumFB6rWGfU",
      "include_colab_link": true
    },
    "kernelspec": {
      "name": "python3",
      "display_name": "Python 3"
    },
    "language_info": {
      "name": "python"
    }
  },
  "cells": [
    {
      "cell_type": "markdown",
      "metadata": {
        "id": "view-in-github",
        "colab_type": "text"
      },
      "source": [
        "<a href=\"https://colab.research.google.com/github/BrendaLoznik/waterpumps/blob/main/EDA.ipynb\" target=\"_parent\"><img src=\"https://colab.research.google.com/assets/colab-badge.svg\" alt=\"Open In Colab\"/></a>"
      ]
    },
    {
      "cell_type": "markdown",
      "source": [
        "# 1 Housekeeping"
      ],
      "metadata": {
        "id": "I_foAsW2sZbJ"
      }
    },
    {
      "cell_type": "markdown",
      "source": [
        "### 1.1 Load libraries"
      ],
      "metadata": {
        "id": "a_HkZ6lhsb6p"
      }
    },
    {
      "cell_type": "code",
      "source": [
        "#basic libraries\n",
        "import numpy as np\n",
        "import pandas as pd\n",
        "import matplotlib.pyplot as plt\n",
        "%matplotlib inline\n",
        "import seaborn as sns"
      ],
      "metadata": {
        "id": "VJC8wAtgs7P3"
      },
      "execution_count": 1,
      "outputs": []
    },
    {
      "cell_type": "code",
      "source": [
        "pd.set_option(\"display.max_columns\", 100)\n",
        "pd.set_option(\"display.max_rows\", 200)"
      ],
      "metadata": {
        "id": "-6orFfCysdu_"
      },
      "execution_count": null,
      "outputs": []
    },
    {
      "cell_type": "markdown",
      "source": [
        "### 1.2 Custom functions"
      ],
      "metadata": {
        "id": "L286bXMks9Y5"
      }
    },
    {
      "cell_type": "code",
      "source": [
        "#numerical data quality report\n",
        "data_types = pd.DataFrame(\n",
        "    df[numerical].dtypes,\n",
        "    columns=['Data Type'])\n",
        "\n",
        "missing_data = pd.DataFrame(\n",
        "    df[numerical].isnull().sum(),\n",
        "    columns=['Missing Values'])\n",
        "\n",
        "unique_values = pd.DataFrame(\n",
        "    columns=['Unique Values']\n",
        ")\n",
        "for row in list(df[numerical].columns.values):\n",
        "    unique_values.loc[row] = [df[numerical][row].nunique()]\n",
        "    \n",
        "count_values = pd.DataFrame(\n",
        "    columns=['Count Value'])\n",
        "for row in list(df[numerical].columns.values):\n",
        "    count_values.loc[row] = [df[numerical][row].count()]\n",
        "\n",
        "maximum_values = pd.DataFrame(\n",
        "    columns=['Maximum Value'])\n",
        "for row in list(df[numerical].columns.values):\n",
        "    maximum_values.loc[row] = [df[numerical][row].max()]\n",
        "    \n",
        "minimum_values = pd.DataFrame(\n",
        "    columns=['Minimum Value'])\n",
        "for row in list(df[numerical].columns.values):\n",
        "    minimum_values.loc[row] = [df[numerical][row].min()]\n",
        "    \n",
        "mean_values = pd.DataFrame(\n",
        "    columns=['Mean Value'])\n",
        "for row in list(df[numerical].columns.values):\n",
        "    mean_values.loc[row] = [df[numerical][row].mean()]\n",
        "\n",
        "quartile_1 = pd.DataFrame(\n",
        "    columns=['1st Quartile'])\n",
        "for row in list(df[numerical].columns.values):\n",
        "    quartile_1.loc[row] = [df[numerical][row].quantile(0.25)]\n",
        "\n",
        "median = pd.DataFrame(\n",
        "    columns=['Median'])\n",
        "for row in list(df[numerical].columns.values):\n",
        "    median.loc[row] = [df[numerical][row].quantile(0.5)]\n",
        "\n",
        "quartile_3 = pd.DataFrame(\n",
        "    columns=['3rd Quartile'])\n",
        "for row in list(df[numerical].columns.values):\n",
        "    quartile_3.loc[row] = [df[numerical][row].quantile(0.75)]\n",
        "\n",
        "dq_report_num = data_types.join(count_values).join(missing_data).join(unique_values).join(minimum_values).join(maximum_values).join(mean_values).join(quartile_1).join(median).join(quartile_3)\n",
        "dq_report_num['Missing %'] = (dq_report_num['Missing Values'] / len(df[numerical]) *100)\n",
        "dq_report_num"
      ],
      "metadata": {
        "id": "ceIHt142tAyu"
      },
      "execution_count": null,
      "outputs": []
    },
    {
      "cell_type": "code",
      "source": [
        "#custom function that creates a numerical data quality report\n",
        "def numerical_dqr(df):\n",
        "  \n",
        "  #select numerical columns\n",
        "  numerical = df.select_dtypes(include = ['int', 'Int64', 'float']).columns.tolist()\n",
        "  \n",
        "  #data type\n",
        "  data_types = pd.DataFrame(\n",
        "    df[numerical].dtypes,\n",
        "    columns=['Data Type'])\n",
        "  \n",
        "  #missing data\n",
        "  missing_data = pd.DataFrame(\n",
        "    df[numerical].isnull().sum(),\n",
        "    columns=['Missing Values'])\n",
        "  \n",
        "  #unique values\n",
        "  unique_values = pd.DataFrame(\n",
        "    columns=['Unique Values'])\n",
        "  for row in list(df[numerical].columns.values):\n",
        "    unique_values.loc[row] = [df[numerical][row].nunique()]\n",
        "    \n",
        "    #number of records\n",
        "  count_values = pd.DataFrame(\n",
        "    columns=['Records'])\n",
        "  for row in list(df[numerical].columns.values):\n",
        "      count_values.loc[row] = [df[numerical][row].count()]\n",
        "    \n",
        "    #minimum value\n",
        "  maximum_values = pd.DataFrame(\n",
        "    columns=['Maximum Value'])\n",
        "  for row in list(df[numerical].columns.values):\n",
        "      maximum_values.loc[row] = [df[numerical][row].max()]\n",
        "    \n",
        "  #maximum value\n",
        "  minimum_values = pd.DataFrame(\n",
        "    columns=['Minimum Value'])\n",
        "  for row in list(df[numerical].columns.values):\n",
        "      minimum_values.loc[row] = [df[numerical][row].min()]\n",
        "    \n",
        "  #mean value\n",
        "  mean_values = pd.DataFrame(\n",
        "    columns=['Mean Value'])\n",
        "  for row in list(df[numerical].columns.values):\n",
        "      mean_values.loc[row] = [df[numerical][row].mean()]\n",
        "    \n",
        "  #first quartile\n",
        "  quartile_1 = pd.DataFrame(\n",
        "    columns=['1st Quartile'])\n",
        "  for row in list(df[numerical].columns.values):\n",
        "      quartile_1.loc[row] = [df[numerical][row].quantile(0.25)]\n",
        "    \n",
        "  #median\n",
        "  median = pd.DataFrame(\n",
        "  columns=['Median'])\n",
        "  for row in list(df[numerical].columns.values):\n",
        "    median.loc[row] = [df[numerical][row].quantile(0.5)]\n",
        "    \n",
        "  #third quartile\n",
        "  quartile_3 = pd.DataFrame(\n",
        "    columns=['3rd Quartile'])\n",
        "  for row in list(df[numerical].columns.values):\n",
        "    quartile_3.loc[row] = [df[numerical][row].quantile(0.75)]\n",
        "    \n",
        "  #join columns \n",
        "  dq_report_num = data_types.join(count_values).join(missing_data).join(unique_values).join(minimum_values).join(maximum_values).join(mean_values).join(quartile_1).join(median).join(quartile_3)\n",
        "  \n",
        "  #percentage missing\n",
        "  dq_report_num['Missing %'] = (dq_report_num['Missing Values'] / len(df[numerical]) *100)\n",
        "  \n",
        "  # change order of columns\n",
        "  dq_report_num = dq_report_num[['Data Type', 'Records', 'Unique Values', 'Missing Values', 'Missing %', 'Mean Value', 'Minimum Value', '1st Quartile', 'Median', '3rd Quartile', 'Maximum Value', ]]\n",
        "\n",
        "  #round\n",
        "  dq_report_num[['Missing %', 'Mean Value', 'Minimum Value', '1st Quartile', 'Median', '3rd Quartile', 'Maximum Value']] =   dq_report_num[['Missing %', 'Mean Value', 'Minimum Value', '1st Quartile', 'Median', '3rd Quartile', 'Maximum Value']].round(1)\n",
        "  \n",
        "   \n",
        "  #rreturn report\n",
        "  return(dq_report_num)"
      ],
      "metadata": {
        "id": "_D206LEFttd2"
      },
      "execution_count": null,
      "outputs": []
    },
    {
      "cell_type": "code",
      "source": [
        ""
      ],
      "metadata": {
        "id": "lAPPDJAHtuLF"
      },
      "execution_count": null,
      "outputs": []
    },
    {
      "cell_type": "code",
      "source": [
        "#data quality report\n",
        "data_types = pd.DataFrame(\n",
        "    df[categorical].dtypes,\n",
        "    columns=['Data Type'])\n",
        "\n",
        "count_values = pd.DataFrame(\n",
        "    columns=['Count Value'])\n",
        "for row in list(df[categorical].columns.values):\n",
        "    count_values.loc[row] = [df[categorical][row].count()]\n",
        "\n",
        "missing_data = pd.DataFrame(\n",
        "    df[categorical].isnull().sum(),\n",
        "    columns=['Missing Values'])\n",
        "\n",
        "unique_values = pd.DataFrame(\n",
        "    columns=['Unique Values'])\n",
        "for row in list(df[categorical].columns.values):\n",
        "    unique_values.loc[row] = [df[categorical][row].nunique()]\n",
        "\n",
        "mode_values = pd.DataFrame(\n",
        "    columns=['Mode'])\n",
        "for row in list(df[categorical].columns.values):\n",
        "    mode_values.loc[row] = [df[categorical][row].mode()[0]]\n",
        "    mode = mode_values.loc[row]\n",
        "\n",
        "#mode frequency\n",
        "listModeFreq = []\n",
        "for row in categorical:\n",
        "    mode = df[row].mode()\n",
        "    ModeFreq = df[row].value_counts()[mode][0]\n",
        "  \n",
        "    listModeFreq .append(ModeFreq )\n",
        "listModeFreq  = np.array(listModeFreq )\n",
        "\n",
        "\n",
        "dq_report_cat = data_types.join(count_values).join(missing_data).join(unique_values).join(mode_values)\n",
        "dq_report_cat['Mode freq.'] = listModeFreq\n",
        "dq_report_cat['Mode %'] = (dq_report_cat['Mode freq.'] / dq_report_cat['Count Value']*100) \n",
        "dq_report_cat['Missing %'] = (dq_report_cat['Missing Values'] / len(df[categorical]) *100)\n",
        "dq_report_cat "
      ],
      "metadata": {
        "id": "F9Sh_lkYtgk9"
      },
      "execution_count": null,
      "outputs": []
    },
    {
      "cell_type": "code",
      "source": [
        "#custom function that creates a numerical data quality report\n",
        "def categorical_dqr (df):\n",
        "  \n",
        "   #select numerical columns\n",
        "  categorical = df.select_dtypes(include = ['category', 'object']).columns.tolist()\n",
        "  \n",
        "  #data type \n",
        "  data_types = pd.DataFrame(\n",
        "    df[categorical].dtypes,\n",
        "    columns=['Data Type'])\n",
        "  \n",
        "  #missing data \n",
        "  missing_data = pd.DataFrame(\n",
        "    df[categorical].isnull().sum(),\n",
        "    columns=['Missing Values'])\n",
        "  \n",
        "  #unique values\n",
        "  unique_values = pd.DataFrame(\n",
        "    columns=['Unique Values'])\n",
        "  for row in list(df[categorical].columns.values):\n",
        "    unique_values.loc[row] = [df[categorical][row].nunique()]\n",
        "  \n",
        "    #number of records \n",
        "  count_values = pd.DataFrame(\n",
        "    columns=['Records'])\n",
        "  for row in list(df[categorical].columns.values):\n",
        "      count_values.loc[row] = [df[categorical][row].count()]\n",
        "    \n",
        "    #mode - DONE\n",
        "  mode_values = pd.DataFrame(\n",
        "    columns=['Mode'])\n",
        "  for row in list(df[categorical].columns.values):\n",
        "      mode_values.loc[row] = [df[categorical][row].mode()[0]]\n",
        "    \n",
        "    #mode frequency\n",
        "  listModeFreq = []\n",
        "  for row in categorical:\n",
        "      mode = df[row].mode()\n",
        "      ModeFreq = df[row].value_counts()[mode][0]\n",
        "      listModeFreq.append(ModeFreq)\n",
        "      ListModeFreq = np.array(listModeFreq)\n",
        "\n",
        "    \n",
        "    #join columns\n",
        "  dq_report_cat = data_types.join(count_values).join(unique_values).join(missing_data).join(mode_values)\n",
        " \n",
        "    #mode frequency\n",
        "  dq_report_cat['Mode freq.'] = listModeFreq\n",
        "  dq_report_cat['Mode %'] = (dq_report_cat['Mode freq.'] / dq_report_cat['Records']*100) \n",
        "    \n",
        "  #percentage missing\n",
        "  dq_report_cat['Missing %'] = (dq_report_cat['Missing Values'] / len(df[categorical]) *100)\n",
        "  \n",
        "  #column order\n",
        "  dq_report_cat = dq_report_cat[['Data Type', 'Records', 'Unique Values', 'Missing Values', 'Missing %', 'Mode', 'Mode freq.', 'Mode %']]\n",
        "  \n",
        "   #round\n",
        "  dq_report_cat['Mode %'] = dq_report_cat['Mode %'].astype('float') #necessary because otherwise round function doesnt work\n",
        "  dq_report_cat [['Missing %', 'Mode %']] =   dq_report_cat [['Missing %', 'Mode %']].round(1)\n",
        "\n",
        "  #rreturn report\n",
        "  return(dq_report_cat)"
      ],
      "metadata": {
        "id": "r6joLNzZtzQF"
      },
      "execution_count": null,
      "outputs": []
    },
    {
      "cell_type": "code",
      "source": [
        "#custome duplicate checker\n",
        "def duplicate_checker(df):\n",
        "  duplicates = df.duplicated(keep = 'first').sum()\n",
        "  print(\"Number of duplicates: {}\".format(duplicates))\n",
        "  print(\"Total number of records: {}\".format(len(df)))\n",
        "  print(\"Percentage duplicated: {}\".format((duplicates/len(df))*100))"
      ],
      "metadata": {
        "id": "TuL-G7O_t1QF"
      },
      "execution_count": null,
      "outputs": []
    },
    {
      "cell_type": "markdown",
      "source": [
        "### 1.3 Load data"
      ],
      "metadata": {
        "id": "gJc8yfvqtBXb"
      }
    },
    {
      "cell_type": "code",
      "source": [
        ""
      ],
      "metadata": {
        "id": "MrxWFZb7tAO-"
      },
      "execution_count": null,
      "outputs": []
    }
  ]
}