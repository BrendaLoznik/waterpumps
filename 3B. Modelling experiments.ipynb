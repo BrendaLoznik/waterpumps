{
  "nbformat": 4,
  "nbformat_minor": 0,
  "metadata": {
    "colab": {
      "name": "waterpumps - modelling experimental.ipynb",
      "provenance": [],
      "toc_visible": true,
      "authorship_tag": "ABX9TyOM6fJ2Meco/4RooK36jJM8",
      "include_colab_link": true
    },
    "kernelspec": {
      "name": "python3",
      "display_name": "Python 3"
    },
    "language_info": {
      "name": "python"
    }
  },
  "cells": [
    {
      "cell_type": "markdown",
      "metadata": {
        "id": "view-in-github",
        "colab_type": "text"
      },
      "source": [
        "<a href=\"https://colab.research.google.com/github/BrendaLoznik/waterpumps/blob/main/3B.%20Modelling%20experiments.ipynb\" target=\"_parent\"><img src=\"https://colab.research.google.com/assets/colab-badge.svg\" alt=\"Open In Colab\"/></a>"
      ]
    },
    {
      "cell_type": "markdown",
      "source": [
        "# 1 Housekeeping"
      ],
      "metadata": {
        "id": "EBX12nVV7mCb"
      }
    },
    {
      "cell_type": "markdown",
      "source": [
        "### 1.1 Load libraries"
      ],
      "metadata": {
        "id": "c15-Gokb7p9N"
      }
    },
    {
      "cell_type": "code",
      "source": [
        "pip install catboost"
      ],
      "metadata": {
        "id": "QWdpeQ8P7qz6"
      },
      "execution_count": null,
      "outputs": []
    },
    {
      "cell_type": "code",
      "source": [
        "import numpy as np\n",
        "import pandas as pd\n",
        "import matplotlib.pyplot as plt\n",
        "%matplotlib inline\n",
        "import seaborn as sns\n",
        "\n",
        "from sklearn.preprocessing import StandardScaler\n",
        "from sklearn.model_selection import train_test_split\n",
        "from sklearn.model_selection import GridSearchCV, RandomizedSearchCV\n",
        "from sklearn.metrics import confusion_matrix, classification_report, accuracy_score\n",
        "from sklearn.model_selection import KFold\n",
        "from sklearn.model_selection import cross_val_score\n",
        "\n",
        "#machine learning\n",
        "from sklearn.ensemble import StackingClassifier\n",
        "from sklearn.linear_model import LogisticRegression \n",
        "from sklearn.neighbors import KNeighborsClassifier\n",
        "from sklearn.tree import DecisionTreeClassifier\n",
        "from xgboost import XGBClassifier\n",
        "from sklearn.ensemble import BaggingClassifier\n",
        "from sklearn.ensemble import RandomForestClassifier\n",
        "from sklearn.ensemble import AdaBoostClassifier\n",
        "from sklearn.ensemble import GradientBoostingClassifier\n",
        "from sklearn.ensemble import VotingClassifier\n",
        "from catboost import CatBoostClassifier\n",
        "from sklearn.cluster import KMeans \n",
        "from sklearn.linear_model import LogisticRegression \n",
        "\n",
        "import warnings\n",
        "warnings.filterwarnings(\"ignore\")\n",
        "warnings.simplefilter(action='ignore', category=FutureWarning)"
      ],
      "metadata": {
        "id": "JjuIgxcx7sUK"
      },
      "execution_count": null,
      "outputs": []
    },
    {
      "cell_type": "markdown",
      "source": [
        "### 1.2 Custom functions"
      ],
      "metadata": {
        "id": "gb7rtzx57w0a"
      }
    },
    {
      "cell_type": "code",
      "source": [
        "def confusion_matrix_plotter (y_test,y_pred):\n",
        "  fig, ax = plt.subplots(figsize=(8,5)) \n",
        "  data = confusion_matrix(y_test, y_pred)\n",
        "  df_cm = pd.DataFrame(data, columns=np.unique(y_test), index = np.unique(y_test))\n",
        "  ax = sns.heatmap(df_cm, cmap='Blues', fmt='g' ,annot=True,annot_kws={\"size\": 14})\n",
        "  ax.set_xlabel(\"Predicted\")\n",
        "  ax.set_ylabel (\"Actual\")\n",
        "  ax.set_xticklabels(ax.get_xticklabels(), rotation=45)\n",
        "  ax.set_yticklabels(ax.get_xticklabels(), rotation=0)"
      ],
      "metadata": {
        "id": "WNvlCxOu7u8y"
      },
      "execution_count": null,
      "outputs": []
    },
    {
      "cell_type": "code",
      "source": [
        "def feature_importances (model):\n",
        "  features= X_train.columns\n",
        "  importances = np.round(model.feature_importances_,3) \n",
        "  indices = np.argsort(importances)\n",
        "  num_features = len(features)\n",
        "  fig, ax = plt.subplots(figsize=(10,10)) \n",
        "  plt.barh(range(num_features), importances[indices[-num_features:]],  align='center')\n",
        "  plt.yticks(range(num_features), [features[i] for i in indices[-num_features:]])\n",
        "  plt.xlabel('Relative Importance')\n",
        "  plt.title('Feature Importance')\n",
        "plt.show()"
      ],
      "metadata": {
        "id": "MreGYsjU7uhS"
      },
      "execution_count": null,
      "outputs": []
    },
    {
      "cell_type": "markdown",
      "source": [
        "### 1.3 Load data"
      ],
      "metadata": {
        "id": "eClak7a373q7"
      }
    },
    {
      "cell_type": "code",
      "source": [
        "from google.colab import drive \n",
        "drive.mount('/content/gdrive')"
      ],
      "metadata": {
        "colab": {
          "base_uri": "https://localhost:8080/"
        },
        "id": "CJS9VPhe70ci",
        "outputId": "9d5e05be-3653-4491-96b4-340ce7d1389a"
      },
      "execution_count": null,
      "outputs": [
        {
          "output_type": "stream",
          "name": "stdout",
          "text": [
            "Mounted at /content/gdrive\n"
          ]
        }
      ]
    },
    {
      "cell_type": "code",
      "source": [
        "train_labels = pd.read_csv('/content/gdrive/MyDrive/Kaggle/Waterpump-github/train_labels.csv')\n",
        "train_values = pd.read_csv('/content/gdrive/MyDrive/Kaggle/Waterpump-github/train_values.csv', parse_dates = ['date_recorded' ],  na_values = [0, '0'])\n",
        "test_values = pd.read_csv('/content/gdrive/MyDrive/Kaggle/Waterpump-github/test_values.csv', parse_dates = ['date_recorded' ] , na_values = [0, '0'])\n",
        "final_df = pd.read_csv('/content/gdrive/MyDrive/Kaggle/Waterpump-github/final_df.csv')\n",
        "final_df = final_df.drop('Unnamed: 0', axis=1)"
      ],
      "metadata": {
        "id": "5q6Wi6H275Oe"
      },
      "execution_count": null,
      "outputs": []
    },
    {
      "cell_type": "code",
      "source": [
        "final_df.head()"
      ],
      "metadata": {
        "colab": {
          "base_uri": "https://localhost:8080/",
          "height": 270
        },
        "id": "8oYBqJ3678Na",
        "outputId": "890d4e65-17a4-4f14-cd91-29b6280310c8"
      },
      "execution_count": null,
      "outputs": [
        {
          "output_type": "execute_result",
          "data": {
            "text/html": [
              "\n",
              "  <div id=\"df-ad221c84-2e69-490c-86c5-8b479a682bf1\">\n",
              "    <div class=\"colab-df-container\">\n",
              "      <div>\n",
              "<style scoped>\n",
              "    .dataframe tbody tr th:only-of-type {\n",
              "        vertical-align: middle;\n",
              "    }\n",
              "\n",
              "    .dataframe tbody tr th {\n",
              "        vertical-align: top;\n",
              "    }\n",
              "\n",
              "    .dataframe thead th {\n",
              "        text-align: right;\n",
              "    }\n",
              "</style>\n",
              "<table border=\"1\" class=\"dataframe\">\n",
              "  <thead>\n",
              "    <tr style=\"text-align: right;\">\n",
              "      <th></th>\n",
              "      <th>id</th>\n",
              "      <th>status_group</th>\n",
              "      <th>funder</th>\n",
              "      <th>installer</th>\n",
              "      <th>latitude</th>\n",
              "      <th>basin</th>\n",
              "      <th>region_code</th>\n",
              "      <th>public_meeting</th>\n",
              "      <th>extraction_type</th>\n",
              "      <th>extraction_type_class</th>\n",
              "      <th>payment_type</th>\n",
              "      <th>water_quality</th>\n",
              "      <th>quantity</th>\n",
              "      <th>source</th>\n",
              "      <th>waterpoint_type</th>\n",
              "      <th>longitude</th>\n",
              "      <th>permit</th>\n",
              "      <th>scheme_management</th>\n",
              "      <th>gps_height</th>\n",
              "      <th>population</th>\n",
              "      <th>age</th>\n",
              "      <th>season</th>\n",
              "      <th>amount_tsh_missing</th>\n",
              "      <th>region_district</th>\n",
              "      <th>authority_scheme</th>\n",
              "    </tr>\n",
              "  </thead>\n",
              "  <tbody>\n",
              "    <tr>\n",
              "      <th>0</th>\n",
              "      <td>69572</td>\n",
              "      <td>functional</td>\n",
              "      <td>107</td>\n",
              "      <td>108</td>\n",
              "      <td>-9.86</td>\n",
              "      <td>1</td>\n",
              "      <td>2</td>\n",
              "      <td>1</td>\n",
              "      <td>1</td>\n",
              "      <td>0</td>\n",
              "      <td>0</td>\n",
              "      <td>6</td>\n",
              "      <td>1</td>\n",
              "      <td>8</td>\n",
              "      <td>1</td>\n",
              "      <td>34.94</td>\n",
              "      <td>0</td>\n",
              "      <td>7</td>\n",
              "      <td>1390</td>\n",
              "      <td>109</td>\n",
              "      <td>12</td>\n",
              "      <td>1</td>\n",
              "      <td>0</td>\n",
              "      <td>20</td>\n",
              "      <td>1</td>\n",
              "    </tr>\n",
              "    <tr>\n",
              "      <th>1</th>\n",
              "      <td>8776</td>\n",
              "      <td>functional</td>\n",
              "      <td>45</td>\n",
              "      <td>47</td>\n",
              "      <td>-2.15</td>\n",
              "      <td>4</td>\n",
              "      <td>12</td>\n",
              "      <td>1</td>\n",
              "      <td>1</td>\n",
              "      <td>0</td>\n",
              "      <td>2</td>\n",
              "      <td>6</td>\n",
              "      <td>2</td>\n",
              "      <td>5</td>\n",
              "      <td>1</td>\n",
              "      <td>34.70</td>\n",
              "      <td>1</td>\n",
              "      <td>2</td>\n",
              "      <td>1399</td>\n",
              "      <td>280</td>\n",
              "      <td>3</td>\n",
              "      <td>1</td>\n",
              "      <td>1</td>\n",
              "      <td>55</td>\n",
              "      <td>2</td>\n",
              "    </tr>\n",
              "    <tr>\n",
              "      <th>2</th>\n",
              "      <td>34310</td>\n",
              "      <td>functional</td>\n",
              "      <td>95</td>\n",
              "      <td>148</td>\n",
              "      <td>-3.82</td>\n",
              "      <td>5</td>\n",
              "      <td>13</td>\n",
              "      <td>1</td>\n",
              "      <td>1</td>\n",
              "      <td>0</td>\n",
              "      <td>5</td>\n",
              "      <td>6</td>\n",
              "      <td>1</td>\n",
              "      <td>0</td>\n",
              "      <td>2</td>\n",
              "      <td>37.46</td>\n",
              "      <td>1</td>\n",
              "      <td>7</td>\n",
              "      <td>686</td>\n",
              "      <td>250</td>\n",
              "      <td>4</td>\n",
              "      <td>2</td>\n",
              "      <td>0</td>\n",
              "      <td>52</td>\n",
              "      <td>1</td>\n",
              "    </tr>\n",
              "    <tr>\n",
              "      <th>3</th>\n",
              "      <td>67743</td>\n",
              "      <td>non functional</td>\n",
              "      <td>136</td>\n",
              "      <td>129</td>\n",
              "      <td>-11.16</td>\n",
              "      <td>7</td>\n",
              "      <td>25</td>\n",
              "      <td>1</td>\n",
              "      <td>11</td>\n",
              "      <td>5</td>\n",
              "      <td>2</td>\n",
              "      <td>6</td>\n",
              "      <td>0</td>\n",
              "      <td>3</td>\n",
              "      <td>2</td>\n",
              "      <td>38.49</td>\n",
              "      <td>1</td>\n",
              "      <td>7</td>\n",
              "      <td>263</td>\n",
              "      <td>58</td>\n",
              "      <td>27</td>\n",
              "      <td>2</td>\n",
              "      <td>1</td>\n",
              "      <td>76</td>\n",
              "      <td>1</td>\n",
              "    </tr>\n",
              "    <tr>\n",
              "      <th>4</th>\n",
              "      <td>19728</td>\n",
              "      <td>functional</td>\n",
              "      <td>95</td>\n",
              "      <td>7</td>\n",
              "      <td>-1.83</td>\n",
              "      <td>4</td>\n",
              "      <td>9</td>\n",
              "      <td>1</td>\n",
              "      <td>1</td>\n",
              "      <td>0</td>\n",
              "      <td>2</td>\n",
              "      <td>6</td>\n",
              "      <td>3</td>\n",
              "      <td>5</td>\n",
              "      <td>1</td>\n",
              "      <td>31.13</td>\n",
              "      <td>1</td>\n",
              "      <td>2</td>\n",
              "      <td>1328</td>\n",
              "      <td>532</td>\n",
              "      <td>15</td>\n",
              "      <td>0</td>\n",
              "      <td>1</td>\n",
              "      <td>22</td>\n",
              "      <td>2</td>\n",
              "    </tr>\n",
              "  </tbody>\n",
              "</table>\n",
              "</div>\n",
              "      <button class=\"colab-df-convert\" onclick=\"convertToInteractive('df-ad221c84-2e69-490c-86c5-8b479a682bf1')\"\n",
              "              title=\"Convert this dataframe to an interactive table.\"\n",
              "              style=\"display:none;\">\n",
              "        \n",
              "  <svg xmlns=\"http://www.w3.org/2000/svg\" height=\"24px\"viewBox=\"0 0 24 24\"\n",
              "       width=\"24px\">\n",
              "    <path d=\"M0 0h24v24H0V0z\" fill=\"none\"/>\n",
              "    <path d=\"M18.56 5.44l.94 2.06.94-2.06 2.06-.94-2.06-.94-.94-2.06-.94 2.06-2.06.94zm-11 1L8.5 8.5l.94-2.06 2.06-.94-2.06-.94L8.5 2.5l-.94 2.06-2.06.94zm10 10l.94 2.06.94-2.06 2.06-.94-2.06-.94-.94-2.06-.94 2.06-2.06.94z\"/><path d=\"M17.41 7.96l-1.37-1.37c-.4-.4-.92-.59-1.43-.59-.52 0-1.04.2-1.43.59L10.3 9.45l-7.72 7.72c-.78.78-.78 2.05 0 2.83L4 21.41c.39.39.9.59 1.41.59.51 0 1.02-.2 1.41-.59l7.78-7.78 2.81-2.81c.8-.78.8-2.07 0-2.86zM5.41 20L4 18.59l7.72-7.72 1.47 1.35L5.41 20z\"/>\n",
              "  </svg>\n",
              "      </button>\n",
              "      \n",
              "  <style>\n",
              "    .colab-df-container {\n",
              "      display:flex;\n",
              "      flex-wrap:wrap;\n",
              "      gap: 12px;\n",
              "    }\n",
              "\n",
              "    .colab-df-convert {\n",
              "      background-color: #E8F0FE;\n",
              "      border: none;\n",
              "      border-radius: 50%;\n",
              "      cursor: pointer;\n",
              "      display: none;\n",
              "      fill: #1967D2;\n",
              "      height: 32px;\n",
              "      padding: 0 0 0 0;\n",
              "      width: 32px;\n",
              "    }\n",
              "\n",
              "    .colab-df-convert:hover {\n",
              "      background-color: #E2EBFA;\n",
              "      box-shadow: 0px 1px 2px rgba(60, 64, 67, 0.3), 0px 1px 3px 1px rgba(60, 64, 67, 0.15);\n",
              "      fill: #174EA6;\n",
              "    }\n",
              "\n",
              "    [theme=dark] .colab-df-convert {\n",
              "      background-color: #3B4455;\n",
              "      fill: #D2E3FC;\n",
              "    }\n",
              "\n",
              "    [theme=dark] .colab-df-convert:hover {\n",
              "      background-color: #434B5C;\n",
              "      box-shadow: 0px 1px 3px 1px rgba(0, 0, 0, 0.15);\n",
              "      filter: drop-shadow(0px 1px 2px rgba(0, 0, 0, 0.3));\n",
              "      fill: #FFFFFF;\n",
              "    }\n",
              "  </style>\n",
              "\n",
              "      <script>\n",
              "        const buttonEl =\n",
              "          document.querySelector('#df-ad221c84-2e69-490c-86c5-8b479a682bf1 button.colab-df-convert');\n",
              "        buttonEl.style.display =\n",
              "          google.colab.kernel.accessAllowed ? 'block' : 'none';\n",
              "\n",
              "        async function convertToInteractive(key) {\n",
              "          const element = document.querySelector('#df-ad221c84-2e69-490c-86c5-8b479a682bf1');\n",
              "          const dataTable =\n",
              "            await google.colab.kernel.invokeFunction('convertToInteractive',\n",
              "                                                     [key], {});\n",
              "          if (!dataTable) return;\n",
              "\n",
              "          const docLinkHtml = 'Like what you see? Visit the ' +\n",
              "            '<a target=\"_blank\" href=https://colab.research.google.com/notebooks/data_table.ipynb>data table notebook</a>'\n",
              "            + ' to learn more about interactive tables.';\n",
              "          element.innerHTML = '';\n",
              "          dataTable['output_type'] = 'display_data';\n",
              "          await google.colab.output.renderOutput(dataTable, element);\n",
              "          const docLink = document.createElement('div');\n",
              "          docLink.innerHTML = docLinkHtml;\n",
              "          element.appendChild(docLink);\n",
              "        }\n",
              "      </script>\n",
              "    </div>\n",
              "  </div>\n",
              "  "
            ],
            "text/plain": [
              "      id    status_group  ...  region_district  authority_scheme\n",
              "0  69572      functional  ...               20                 1\n",
              "1   8776      functional  ...               55                 2\n",
              "2  34310      functional  ...               52                 1\n",
              "3  67743  non functional  ...               76                 1\n",
              "4  19728      functional  ...               22                 2\n",
              "\n",
              "[5 rows x 25 columns]"
            ]
          },
          "metadata": {},
          "execution_count": 7
        }
      ]
    },
    {
      "cell_type": "markdown",
      "source": [
        "# 2 Modelling"
      ],
      "metadata": {
        "id": "1iWnwAXy7_is"
      }
    },
    {
      "cell_type": "code",
      "source": [
        "#define train and test \n",
        "train_set = final_df [final_df [\"id\"].isin(train_values[\"id\"])]\n",
        "test_set =  final_df  [final_df  [\"id\"].isin(test_values[\"id\"])]"
      ],
      "metadata": {
        "id": "qMQMzeHO79jq"
      },
      "execution_count": null,
      "outputs": []
    },
    {
      "cell_type": "code",
      "source": [
        "#define X and y for training the model\n",
        "X= train_set.drop(['id', 'status_group'], axis=1)\n",
        "y = train_set['status_group']"
      ],
      "metadata": {
        "id": "KOYm_F458BAi"
      },
      "execution_count": null,
      "outputs": []
    },
    {
      "cell_type": "markdown",
      "source": [
        "### **2.1 Best submission**"
      ],
      "metadata": {
        "id": "AzAre9Az8ImF"
      }
    },
    {
      "cell_type": "markdown",
      "source": [
        "####**Baseline model performance**"
      ],
      "metadata": {
        "id": "qwzFnyfZAUWn"
      }
    },
    {
      "cell_type": "code",
      "source": [
        "#define the models\n",
        "models=[LogisticRegression(max_iter = 1000000,  random_state=42),\n",
        "        KNeighborsClassifier(),\n",
        "        DecisionTreeClassifier( random_state=42),\n",
        "       RandomForestClassifier( random_state=42),\n",
        "       XGBClassifier( random_state=42),\n",
        "        BaggingClassifier( random_state=42), \n",
        "        AdaBoostClassifier( random_state=42),\n",
        "        GradientBoostingClassifier( random_state=42),\n",
        "       CatBoostClassifier( random_state=42)]\n",
        "\n",
        "#create a list of model names\n",
        "names =['Logistic Regression', 'KNN Classifier', 'Decision Tree Classifier', 'Random Forest Classifier',  'XGB Classifier', 'Bagging Classifier', 'AdaBoost Classifier', 'Gradient Boosting Classifier', 'Catboost Classifier']\n",
        "\n",
        "#create empty lists for the accuracy and standard deviation\n",
        "accuracy=[]\n",
        "std = []\n",
        "\n",
        "#peform 10-fold cross validaton on each model and append the results to the list\n",
        "for model in models:\n",
        "  cv = KFold(n_splits=10, shuffle = True,  random_state=1)\n",
        "  n_scores = cross_val_score(model, X, y, scoring='accuracy', cv=cv, n_jobs=-1, error_score='raise')\n",
        "  mean_score = np.mean(n_scores)\n",
        "  std_score = np.std(n_scores)\n",
        "  accuracy.append(mean_score)\n",
        "  std.append(std_score)\n",
        "\n",
        "#create a dataframe of the model performances\n",
        "d = {'Model':names,'Accuracy':accuracy, 'Std':std}   \n",
        "score_df = pd.DataFrame(d)\n",
        "score_df"
      ],
      "metadata": {
        "colab": {
          "base_uri": "https://localhost:8080/",
          "height": 331
        },
        "id": "-5LzwUB6A_4k",
        "outputId": "ca2e12f2-696f-44ad-e6a5-80da1452d834"
      },
      "execution_count": null,
      "outputs": [
        {
          "output_type": "execute_result",
          "data": {
            "text/html": [
              "\n",
              "  <div id=\"df-28bba190-410c-47a6-87dd-368ccb06c6cc\">\n",
              "    <div class=\"colab-df-container\">\n",
              "      <div>\n",
              "<style scoped>\n",
              "    .dataframe tbody tr th:only-of-type {\n",
              "        vertical-align: middle;\n",
              "    }\n",
              "\n",
              "    .dataframe tbody tr th {\n",
              "        vertical-align: top;\n",
              "    }\n",
              "\n",
              "    .dataframe thead th {\n",
              "        text-align: right;\n",
              "    }\n",
              "</style>\n",
              "<table border=\"1\" class=\"dataframe\">\n",
              "  <thead>\n",
              "    <tr style=\"text-align: right;\">\n",
              "      <th></th>\n",
              "      <th>Model</th>\n",
              "      <th>Accuracy</th>\n",
              "      <th>Std</th>\n",
              "    </tr>\n",
              "  </thead>\n",
              "  <tbody>\n",
              "    <tr>\n",
              "      <th>0</th>\n",
              "      <td>Logistic Regression</td>\n",
              "      <td>0.666510</td>\n",
              "      <td>0.006001</td>\n",
              "    </tr>\n",
              "    <tr>\n",
              "      <th>1</th>\n",
              "      <td>KNN Classifier</td>\n",
              "      <td>0.701140</td>\n",
              "      <td>0.007301</td>\n",
              "    </tr>\n",
              "    <tr>\n",
              "      <th>2</th>\n",
              "      <td>Decision Tree Classifier</td>\n",
              "      <td>0.756158</td>\n",
              "      <td>0.004169</td>\n",
              "    </tr>\n",
              "    <tr>\n",
              "      <th>3</th>\n",
              "      <td>Random Forest Classifier</td>\n",
              "      <td>0.804121</td>\n",
              "      <td>0.004219</td>\n",
              "    </tr>\n",
              "    <tr>\n",
              "      <th>4</th>\n",
              "      <td>XGB Classifier</td>\n",
              "      <td>0.742740</td>\n",
              "      <td>0.005622</td>\n",
              "    </tr>\n",
              "    <tr>\n",
              "      <th>5</th>\n",
              "      <td>Bagging Classifier</td>\n",
              "      <td>0.793599</td>\n",
              "      <td>0.003323</td>\n",
              "    </tr>\n",
              "    <tr>\n",
              "      <th>6</th>\n",
              "      <td>AdaBoost Classifier</td>\n",
              "      <td>0.723985</td>\n",
              "      <td>0.005083</td>\n",
              "    </tr>\n",
              "    <tr>\n",
              "      <th>7</th>\n",
              "      <td>Gradient Boosting Classifier</td>\n",
              "      <td>0.751174</td>\n",
              "      <td>0.005385</td>\n",
              "    </tr>\n",
              "    <tr>\n",
              "      <th>8</th>\n",
              "      <td>Catboost Classifier</td>\n",
              "      <td>0.796428</td>\n",
              "      <td>0.003599</td>\n",
              "    </tr>\n",
              "  </tbody>\n",
              "</table>\n",
              "</div>\n",
              "      <button class=\"colab-df-convert\" onclick=\"convertToInteractive('df-28bba190-410c-47a6-87dd-368ccb06c6cc')\"\n",
              "              title=\"Convert this dataframe to an interactive table.\"\n",
              "              style=\"display:none;\">\n",
              "        \n",
              "  <svg xmlns=\"http://www.w3.org/2000/svg\" height=\"24px\"viewBox=\"0 0 24 24\"\n",
              "       width=\"24px\">\n",
              "    <path d=\"M0 0h24v24H0V0z\" fill=\"none\"/>\n",
              "    <path d=\"M18.56 5.44l.94 2.06.94-2.06 2.06-.94-2.06-.94-.94-2.06-.94 2.06-2.06.94zm-11 1L8.5 8.5l.94-2.06 2.06-.94-2.06-.94L8.5 2.5l-.94 2.06-2.06.94zm10 10l.94 2.06.94-2.06 2.06-.94-2.06-.94-.94-2.06-.94 2.06-2.06.94z\"/><path d=\"M17.41 7.96l-1.37-1.37c-.4-.4-.92-.59-1.43-.59-.52 0-1.04.2-1.43.59L10.3 9.45l-7.72 7.72c-.78.78-.78 2.05 0 2.83L4 21.41c.39.39.9.59 1.41.59.51 0 1.02-.2 1.41-.59l7.78-7.78 2.81-2.81c.8-.78.8-2.07 0-2.86zM5.41 20L4 18.59l7.72-7.72 1.47 1.35L5.41 20z\"/>\n",
              "  </svg>\n",
              "      </button>\n",
              "      \n",
              "  <style>\n",
              "    .colab-df-container {\n",
              "      display:flex;\n",
              "      flex-wrap:wrap;\n",
              "      gap: 12px;\n",
              "    }\n",
              "\n",
              "    .colab-df-convert {\n",
              "      background-color: #E8F0FE;\n",
              "      border: none;\n",
              "      border-radius: 50%;\n",
              "      cursor: pointer;\n",
              "      display: none;\n",
              "      fill: #1967D2;\n",
              "      height: 32px;\n",
              "      padding: 0 0 0 0;\n",
              "      width: 32px;\n",
              "    }\n",
              "\n",
              "    .colab-df-convert:hover {\n",
              "      background-color: #E2EBFA;\n",
              "      box-shadow: 0px 1px 2px rgba(60, 64, 67, 0.3), 0px 1px 3px 1px rgba(60, 64, 67, 0.15);\n",
              "      fill: #174EA6;\n",
              "    }\n",
              "\n",
              "    [theme=dark] .colab-df-convert {\n",
              "      background-color: #3B4455;\n",
              "      fill: #D2E3FC;\n",
              "    }\n",
              "\n",
              "    [theme=dark] .colab-df-convert:hover {\n",
              "      background-color: #434B5C;\n",
              "      box-shadow: 0px 1px 3px 1px rgba(0, 0, 0, 0.15);\n",
              "      filter: drop-shadow(0px 1px 2px rgba(0, 0, 0, 0.3));\n",
              "      fill: #FFFFFF;\n",
              "    }\n",
              "  </style>\n",
              "\n",
              "      <script>\n",
              "        const buttonEl =\n",
              "          document.querySelector('#df-28bba190-410c-47a6-87dd-368ccb06c6cc button.colab-df-convert');\n",
              "        buttonEl.style.display =\n",
              "          google.colab.kernel.accessAllowed ? 'block' : 'none';\n",
              "\n",
              "        async function convertToInteractive(key) {\n",
              "          const element = document.querySelector('#df-28bba190-410c-47a6-87dd-368ccb06c6cc');\n",
              "          const dataTable =\n",
              "            await google.colab.kernel.invokeFunction('convertToInteractive',\n",
              "                                                     [key], {});\n",
              "          if (!dataTable) return;\n",
              "\n",
              "          const docLinkHtml = 'Like what you see? Visit the ' +\n",
              "            '<a target=\"_blank\" href=https://colab.research.google.com/notebooks/data_table.ipynb>data table notebook</a>'\n",
              "            + ' to learn more about interactive tables.';\n",
              "          element.innerHTML = '';\n",
              "          dataTable['output_type'] = 'display_data';\n",
              "          await google.colab.output.renderOutput(dataTable, element);\n",
              "          const docLink = document.createElement('div');\n",
              "          docLink.innerHTML = docLinkHtml;\n",
              "          element.appendChild(docLink);\n",
              "        }\n",
              "      </script>\n",
              "    </div>\n",
              "  </div>\n",
              "  "
            ],
            "text/plain": [
              "                          Model  Accuracy       Std\n",
              "0           Logistic Regression  0.666510  0.006001\n",
              "1                KNN Classifier  0.701140  0.007301\n",
              "2      Decision Tree Classifier  0.756158  0.004169\n",
              "3      Random Forest Classifier  0.804121  0.004219\n",
              "4                XGB Classifier  0.742740  0.005622\n",
              "5            Bagging Classifier  0.793599  0.003323\n",
              "6           AdaBoost Classifier  0.723985  0.005083\n",
              "7  Gradient Boosting Classifier  0.751174  0.005385\n",
              "8           Catboost Classifier  0.796428  0.003599"
            ]
          },
          "metadata": {},
          "execution_count": 36
        }
      ]
    },
    {
      "cell_type": "markdown",
      "source": [
        "####**Hyperparameter range plots**"
      ],
      "metadata": {
        "id": "j6pgp-cUK5N6"
      }
    },
    {
      "cell_type": "markdown",
      "source": [
        "Visualize the optimal number of n_estimators for a random forest and a bagging classifier."
      ],
      "metadata": {
        "id": "W0gZ6RFeMOPu"
      }
    },
    {
      "cell_type": "code",
      "source": [
        "#define X and y for training the model\n",
        "X= train_set.drop(['id', 'status_group'], axis=1)\n",
        "y = train_set['status_group']\n",
        "X_train, X_test, y_train, y_test= train_test_split(X, y, test_size = 0.2, random_state=42, stratify=y)\n",
        "\n",
        "#determine accuracy for different levels of n_estimators\n",
        "n_estimators = [1,  25,  50, 100, 250, 500, 750, 1000]\n",
        "train_results = []\n",
        "test_results = []\n",
        "\n",
        "for estimator in n_estimators:\n",
        "   rf = RandomForestClassifier(n_estimators=estimator, n_jobs=-1)\n",
        "   rf.fit(X_train, y_train)\n",
        "  #train accuracy\n",
        "   train_pred = rf.predict(X_train)\n",
        "   train_results.append(accuracy_score(y_train,train_pred))\n",
        "  #test accuracy\n",
        "   test_pred = rf.predict(X_test)\n",
        "   test_results.append(accuracy_score(y_test, test_pred))\n",
        "\n",
        "#plot  \n",
        "from matplotlib.legend_handler import HandlerLine2D\n",
        "line1, = plt.plot(n_estimators, train_results, color = 'k', label=\"Train\")\n",
        "line2, = plt.plot(n_estimators, test_results, color =  '#66c2a5', label=\"Test\")\n",
        "plt.legend(handler_map={line1: HandlerLine2D(numpoints=2)})\n",
        "plt.ylabel(\"Accuracy score\")\n",
        "plt.xlabel(\"n_estimators\")\n",
        "plt.title(\"Random Forest Classifier\")\n",
        "plt.show()"
      ],
      "metadata": {
        "colab": {
          "base_uri": "https://localhost:8080/",
          "height": 296
        },
        "id": "FXOnEufQKw_T",
        "outputId": "81601fbb-1f26-494f-f64d-db5514ebeaa5"
      },
      "execution_count": null,
      "outputs": [
        {
          "output_type": "display_data",
          "data": {
            "image/png": "[encoded data removed]",
            "text/plain": [
              "<Figure size 432x288 with 1 Axes>"
            ]
          },
          "metadata": {
            "needs_background": "light"
          }
        }
      ]
    },
    {
      "cell_type": "markdown",
      "source": [
        "#### **Best model**"
      ],
      "metadata": {
        "id": "k2Z8AtYDBtnA"
      }
    },
    {
      "cell_type": "markdown",
      "source": [
        "My best model resulted in an accuracy of 0.8235 on the public board (rank 504). This model consisted of a weighted vote of 4 tuned tree-based models."
      ],
      "metadata": {
        "id": "QJ3VHH1OBDQz"
      }
    },
    {
      "cell_type": "code",
      "source": [
        "#tuned models\n",
        "rf = RandomForestClassifier(max_depth=30, max_features='log2', min_samples_split=7, n_estimators=225, random_state=42, warm_start=True)\n",
        "xgb = XGBClassifier(max_depth =12, n_estimators= 200, colsample_bytree = 0.3, eta = 0.2, random_state = 42) \n",
        "cat = CatBoostClassifier(max_depth = 9, rsm = 0.2, iterations = 1000, random_state = 42)\n",
        "bag = BaggingClassifier(max_features=0.4, n_estimators=1000, random_state=42) "
      ],
      "metadata": {
        "id": "xxgSdOgJ8HuJ"
      },
      "execution_count": null,
      "outputs": []
    },
    {
      "cell_type": "code",
      "source": [
        "# Create training and test sets: test size 0.2\n",
        "X_train, X_test, y_train, y_test= train_test_split(X, y, test_size = 0.2, random_state=42, stratify=y)\n",
        "\n",
        "\n",
        "vc = VotingClassifier([('rf', rf), ('xgb', xgb),('cat', cat), ('bag', bag)], voting = 'soft', weights = [0.85, 1, 0.85, 0.75])\n",
        "                       \n",
        "#fit and predict\n",
        "vc.fit(X_train , y_train)\n",
        "pred= vc .predict(X_test)\n",
        "pred_train = vc .predict(X_train)\n"
      ],
      "metadata": {
        "id": "FbfGV0eK8XJk"
      },
      "execution_count": null,
      "outputs": []
    },
    {
      "cell_type": "code",
      "source": [
        "#print best model scores on test data\n",
        "print(\"Accuracy score train: {}\".format(accuracy_score(y_train ,pred_train)))\n",
        "print(\"Accuracy score test: {}\".format(accuracy_score(y_test, pred)))\n",
        "\n",
        "#print(confusion_matrix(y_test, y_pred))\n",
        "print(classification_report(y_test, pred))\n",
        "\n",
        "#heatmap\n",
        "fig, ax = plt.subplots(figsize=(8,5)) \n",
        "data = confusion_matrix(y_test, pred)\n",
        "df_cm = pd.DataFrame(data, columns=np.unique(y_test), index = np.unique(y_test))\n",
        "ax = sns.heatmap(df_cm, cmap='Blues', fmt='g' ,annot=True,annot_kws={\"size\": 14})\n",
        "ax.set_xlabel(\"Predicted\")\n",
        "ax.set_ylabel (\"Actual\")\n",
        "ax.set_xticklabels(ax.get_xticklabels(), rotation=45)\n",
        "ax.set_yticklabels(ax.get_xticklabels(), rotation=0)\n",
        "plt.show()"
      ],
      "metadata": {
        "colab": {
          "base_uri": "https://localhost:8080/",
          "height": 620
        },
        "id": "f-M8Mofa8cmh",
        "outputId": "573b4590-652a-4dd1-b6c0-94b1c19f1ca5"
      },
      "execution_count": null,
      "outputs": [
        {
          "output_type": "stream",
          "name": "stdout",
          "text": [
            "Accuracy score train: 0.9242197857699026\n",
            "Accuracy score test: 0.8159090909090909\n",
            "                         precision    recall  f1-score   support\n",
            "\n",
            "             functional       0.80      0.91      0.85      6452\n",
            "functional needs repair       0.64      0.28      0.39       863\n",
            "         non functional       0.86      0.78      0.82      4565\n",
            "\n",
            "               accuracy                           0.82     11880\n",
            "              macro avg       0.77      0.66      0.69     11880\n",
            "           weighted avg       0.81      0.82      0.81     11880\n",
            "\n"
          ]
        },
        {
          "output_type": "display_data",
          "data": {
            "image/png": "[encoded data removed]",
            "text/plain": [
              "<Figure size 576x360 with 2 Axes>"
            ]
          },
          "metadata": {
            "needs_background": "light"
          }
        }
      ]
    },
    {
      "cell_type": "markdown",
      "source": [
        "### **2.2 Experiment 1 - Kmeans**"
      ],
      "metadata": {
        "id": "346GYola8h9l"
      }
    },
    {
      "cell_type": "markdown",
      "source": [
        "Is it possible to cluster the water pumps based on their characteristics? For each cluster I can calculate the percentage of functional, non-functional and pumps that need repairing. Can I improve model performance my including these percentages as variables to the dataset?"
      ],
      "metadata": {
        "id": "kdq7wkd3_QBQ"
      }
    },
    {
      "cell_type": "code",
      "source": [
        "#create a copy of the dataset\n",
        "train_set_kmeans = train_set.copy()\n",
        "\n",
        "#define X and y for training the model\n",
        "X= train_set_kmeans.drop(['id', 'status_group'], axis=1)\n",
        "y = train_set_kmeans['status_group']"
      ],
      "metadata": {
        "id": "JLojDCuJBQYl"
      },
      "execution_count": null,
      "outputs": []
    },
    {
      "cell_type": "code",
      "source": [
        "# transform data\n",
        "scaler = StandardScaler()\n",
        "scaled_features = scaler.fit_transform(X)\n",
        "\n",
        "#create scaled df\n",
        "scaled_data = pd.DataFrame(scaled_features , index=X.index, columns=X.columns)"
      ],
      "metadata": {
        "id": "jMLJMjvS8dbJ"
      },
      "execution_count": null,
      "outputs": []
    },
    {
      "cell_type": "code",
      "source": [
        "#Create an ellbow plot to determine the optimal number of clusters\n",
        "ks = range(1, 20)\n",
        "inertias = []\n",
        "\n",
        "for k in ks:\n",
        "    # Create a KMeans instance with k clusters: model\n",
        "    kmeans = KMeans(n_clusters=k).fit(scaled_data)\n",
        "     \n",
        "    # Append the inertia to the list of inertias\n",
        "    inertias.append(kmeans.inertia_)\n",
        "    \n",
        "# Plot ks vs inertias\n",
        "plt.plot(ks, inertias, '-o',  color =  '#66c2a5')\n",
        "plt.xlabel('number of clusters, k')\n",
        "plt.ylabel('inertia')\n",
        "plt.title(\"Ellbow method\")\n",
        "plt.xticks(ks)\n",
        "plt.show()"
      ],
      "metadata": {
        "colab": {
          "base_uri": "https://localhost:8080/",
          "height": 295
        },
        "id": "aFQnsRGg8_WZ",
        "outputId": "c38997e9-8d0c-4e53-a674-da3185b1ee9b"
      },
      "execution_count": null,
      "outputs": [
        {
          "output_type": "display_data",
          "data": {
            "image/png": "[encoded data removed]",
            "text/plain": [
              "<Figure size 432x288 with 1 Axes>"
            ]
          },
          "metadata": {
            "needs_background": "light"
          }
        }
      ]
    },
    {
      "cell_type": "code",
      "source": [
        "#fit K means with 3 clusters\n",
        "kmeans = KMeans(n_clusters=3, random_state =11 )\n",
        "kmeans.fit(scaled_data)\n",
        "\n",
        "# Calculate the cluster labels: labels\n",
        "clusters = kmeans.predict(scaled_data)\n",
        "train_set_kmeans[\"cluster\"] = clusters"
      ],
      "metadata": {
        "id": "AewGIduH967_"
      },
      "execution_count": null,
      "outputs": []
    },
    {
      "cell_type": "code",
      "source": [
        "#calculate percentage of status groups per cluster\n",
        "grouped = train_set_kmeans.groupby(['cluster', 'status_group'])['id'].count().reset_index()\n",
        "\n",
        "pivot = grouped.pivot(index = ['cluster'], columns = 'status_group')\n",
        "mi=pivot .columns\n",
        "mi.tolist()\n",
        "ind = pd.Index([ str(e[1])  for e in mi.tolist()])\n",
        "pivot .columns = ind\n",
        "\n",
        "pivot['Pumps (#)'] = pivot['functional'] + pivot['non functional'] + pivot['functional needs repair']\n",
        "pivot['Functional pumps (%)'] = round(pivot['functional'] / pivot['Pumps (#)'],2)\n",
        "pivot['Non-functional pumps (%)'] = round(pivot['non functional'] / pivot['Pumps (#)'],2)\n",
        "pivot['Functional need repair pumps (%)'] = round(pivot['functional needs repair'] / pivot['Pumps (#)'],2)\n",
        "\n",
        "pivot = pivot.drop(['functional', 'functional needs repair', 'non functional'],axis=1)\n",
        "pivot = pivot.reset_index()\n",
        "pivot"
      ],
      "metadata": {
        "colab": {
          "base_uri": "https://localhost:8080/",
          "height": 144
        },
        "id": "UnJ7Gd8__aOc",
        "outputId": "aa7a56e9-2978-4268-ed33-882275258031"
      },
      "execution_count": null,
      "outputs": [
        {
          "output_type": "execute_result",
          "data": {
            "text/html": [
              "\n",
              "  <div id=\"df-ca53b725-e1f6-4629-bb0b-cdadfed7746c\">\n",
              "    <div class=\"colab-df-container\">\n",
              "      <div>\n",
              "<style scoped>\n",
              "    .dataframe tbody tr th:only-of-type {\n",
              "        vertical-align: middle;\n",
              "    }\n",
              "\n",
              "    .dataframe tbody tr th {\n",
              "        vertical-align: top;\n",
              "    }\n",
              "\n",
              "    .dataframe thead th {\n",
              "        text-align: right;\n",
              "    }\n",
              "</style>\n",
              "<table border=\"1\" class=\"dataframe\">\n",
              "  <thead>\n",
              "    <tr style=\"text-align: right;\">\n",
              "      <th></th>\n",
              "      <th>cluster</th>\n",
              "      <th>Pumps (#)</th>\n",
              "      <th>Functional pumps (%)</th>\n",
              "      <th>Non-functional pumps (%)</th>\n",
              "      <th>Functional need repair pumps (%)</th>\n",
              "    </tr>\n",
              "  </thead>\n",
              "  <tbody>\n",
              "    <tr>\n",
              "      <th>0</th>\n",
              "      <td>0</td>\n",
              "      <td>13923</td>\n",
              "      <td>0.48</td>\n",
              "      <td>0.47</td>\n",
              "      <td>0.04</td>\n",
              "    </tr>\n",
              "    <tr>\n",
              "      <th>1</th>\n",
              "      <td>1</td>\n",
              "      <td>23291</td>\n",
              "      <td>0.62</td>\n",
              "      <td>0.29</td>\n",
              "      <td>0.09</td>\n",
              "    </tr>\n",
              "    <tr>\n",
              "      <th>2</th>\n",
              "      <td>2</td>\n",
              "      <td>22185</td>\n",
              "      <td>0.50</td>\n",
              "      <td>0.43</td>\n",
              "      <td>0.07</td>\n",
              "    </tr>\n",
              "  </tbody>\n",
              "</table>\n",
              "</div>\n",
              "      <button class=\"colab-df-convert\" onclick=\"convertToInteractive('df-ca53b725-e1f6-4629-bb0b-cdadfed7746c')\"\n",
              "              title=\"Convert this dataframe to an interactive table.\"\n",
              "              style=\"display:none;\">\n",
              "        \n",
              "  <svg xmlns=\"http://www.w3.org/2000/svg\" height=\"24px\"viewBox=\"0 0 24 24\"\n",
              "       width=\"24px\">\n",
              "    <path d=\"M0 0h24v24H0V0z\" fill=\"none\"/>\n",
              "    <path d=\"M18.56 5.44l.94 2.06.94-2.06 2.06-.94-2.06-.94-.94-2.06-.94 2.06-2.06.94zm-11 1L8.5 8.5l.94-2.06 2.06-.94-2.06-.94L8.5 2.5l-.94 2.06-2.06.94zm10 10l.94 2.06.94-2.06 2.06-.94-2.06-.94-.94-2.06-.94 2.06-2.06.94z\"/><path d=\"M17.41 7.96l-1.37-1.37c-.4-.4-.92-.59-1.43-.59-.52 0-1.04.2-1.43.59L10.3 9.45l-7.72 7.72c-.78.78-.78 2.05 0 2.83L4 21.41c.39.39.9.59 1.41.59.51 0 1.02-.2 1.41-.59l7.78-7.78 2.81-2.81c.8-.78.8-2.07 0-2.86zM5.41 20L4 18.59l7.72-7.72 1.47 1.35L5.41 20z\"/>\n",
              "  </svg>\n",
              "      </button>\n",
              "      \n",
              "  <style>\n",
              "    .colab-df-container {\n",
              "      display:flex;\n",
              "      flex-wrap:wrap;\n",
              "      gap: 12px;\n",
              "    }\n",
              "\n",
              "    .colab-df-convert {\n",
              "      background-color: #E8F0FE;\n",
              "      border: none;\n",
              "      border-radius: 50%;\n",
              "      cursor: pointer;\n",
              "      display: none;\n",
              "      fill: #1967D2;\n",
              "      height: 32px;\n",
              "      padding: 0 0 0 0;\n",
              "      width: 32px;\n",
              "    }\n",
              "\n",
              "    .colab-df-convert:hover {\n",
              "      background-color: #E2EBFA;\n",
              "      box-shadow: 0px 1px 2px rgba(60, 64, 67, 0.3), 0px 1px 3px 1px rgba(60, 64, 67, 0.15);\n",
              "      fill: #174EA6;\n",
              "    }\n",
              "\n",
              "    [theme=dark] .colab-df-convert {\n",
              "      background-color: #3B4455;\n",
              "      fill: #D2E3FC;\n",
              "    }\n",
              "\n",
              "    [theme=dark] .colab-df-convert:hover {\n",
              "      background-color: #434B5C;\n",
              "      box-shadow: 0px 1px 3px 1px rgba(0, 0, 0, 0.15);\n",
              "      filter: drop-shadow(0px 1px 2px rgba(0, 0, 0, 0.3));\n",
              "      fill: #FFFFFF;\n",
              "    }\n",
              "  </style>\n",
              "\n",
              "      <script>\n",
              "        const buttonEl =\n",
              "          document.querySelector('#df-ca53b725-e1f6-4629-bb0b-cdadfed7746c button.colab-df-convert');\n",
              "        buttonEl.style.display =\n",
              "          google.colab.kernel.accessAllowed ? 'block' : 'none';\n",
              "\n",
              "        async function convertToInteractive(key) {\n",
              "          const element = document.querySelector('#df-ca53b725-e1f6-4629-bb0b-cdadfed7746c');\n",
              "          const dataTable =\n",
              "            await google.colab.kernel.invokeFunction('convertToInteractive',\n",
              "                                                     [key], {});\n",
              "          if (!dataTable) return;\n",
              "\n",
              "          const docLinkHtml = 'Like what you see? Visit the ' +\n",
              "            '<a target=\"_blank\" href=https://colab.research.google.com/notebooks/data_table.ipynb>data table notebook</a>'\n",
              "            + ' to learn more about interactive tables.';\n",
              "          element.innerHTML = '';\n",
              "          dataTable['output_type'] = 'display_data';\n",
              "          await google.colab.output.renderOutput(dataTable, element);\n",
              "          const docLink = document.createElement('div');\n",
              "          docLink.innerHTML = docLinkHtml;\n",
              "          element.appendChild(docLink);\n",
              "        }\n",
              "      </script>\n",
              "    </div>\n",
              "  </div>\n",
              "  "
            ],
            "text/plain": [
              "   cluster  ...  Functional need repair pumps (%)\n",
              "0        0  ...                              0.04\n",
              "1        1  ...                              0.09\n",
              "2        2  ...                              0.07\n",
              "\n",
              "[3 rows x 5 columns]"
            ]
          },
          "metadata": {},
          "execution_count": 40
        }
      ]
    },
    {
      "cell_type": "code",
      "source": [
        "#add the cluster means to the dataframes\n",
        "train_set_kmeans = train_set_kmeans.merge(pivot[['cluster', 'Functional pumps (%)', 'Non-functional pumps (%)', 'Functional need repair pumps (%)']], how = 'left', on = 'cluster')\n",
        "train_set_kmeans.head()"
      ],
      "metadata": {
        "colab": {
          "base_uri": "https://localhost:8080/",
          "height": 321
        },
        "id": "7wVqYstg_kmW",
        "outputId": "827218bf-6841-4f1f-fb46-7e3e6fcc3efe"
      },
      "execution_count": null,
      "outputs": [
        {
          "output_type": "execute_result",
          "data": {
            "text/html": [
              "\n",
              "  <div id=\"df-ed4c2dcf-24f9-4a4d-9bd2-190be74fbc56\">\n",
              "    <div class=\"colab-df-container\">\n",
              "      <div>\n",
              "<style scoped>\n",
              "    .dataframe tbody tr th:only-of-type {\n",
              "        vertical-align: middle;\n",
              "    }\n",
              "\n",
              "    .dataframe tbody tr th {\n",
              "        vertical-align: top;\n",
              "    }\n",
              "\n",
              "    .dataframe thead th {\n",
              "        text-align: right;\n",
              "    }\n",
              "</style>\n",
              "<table border=\"1\" class=\"dataframe\">\n",
              "  <thead>\n",
              "    <tr style=\"text-align: right;\">\n",
              "      <th></th>\n",
              "      <th>id</th>\n",
              "      <th>status_group</th>\n",
              "      <th>funder</th>\n",
              "      <th>installer</th>\n",
              "      <th>latitude</th>\n",
              "      <th>basin</th>\n",
              "      <th>region_code</th>\n",
              "      <th>public_meeting</th>\n",
              "      <th>extraction_type</th>\n",
              "      <th>extraction_type_class</th>\n",
              "      <th>payment_type</th>\n",
              "      <th>water_quality</th>\n",
              "      <th>quantity</th>\n",
              "      <th>source</th>\n",
              "      <th>waterpoint_type</th>\n",
              "      <th>longitude</th>\n",
              "      <th>permit</th>\n",
              "      <th>scheme_management</th>\n",
              "      <th>gps_height</th>\n",
              "      <th>population</th>\n",
              "      <th>age</th>\n",
              "      <th>season</th>\n",
              "      <th>amount_tsh_missing</th>\n",
              "      <th>region_district</th>\n",
              "      <th>authority_scheme</th>\n",
              "      <th>cluster</th>\n",
              "      <th>Functional pumps (%)</th>\n",
              "      <th>Non-functional pumps (%)</th>\n",
              "      <th>Functional need repair pumps (%)</th>\n",
              "    </tr>\n",
              "  </thead>\n",
              "  <tbody>\n",
              "    <tr>\n",
              "      <th>0</th>\n",
              "      <td>69572</td>\n",
              "      <td>functional</td>\n",
              "      <td>107</td>\n",
              "      <td>108</td>\n",
              "      <td>-9.86</td>\n",
              "      <td>1</td>\n",
              "      <td>2</td>\n",
              "      <td>1</td>\n",
              "      <td>1</td>\n",
              "      <td>0</td>\n",
              "      <td>0</td>\n",
              "      <td>6</td>\n",
              "      <td>1</td>\n",
              "      <td>8</td>\n",
              "      <td>1</td>\n",
              "      <td>34.94</td>\n",
              "      <td>0</td>\n",
              "      <td>7</td>\n",
              "      <td>1390</td>\n",
              "      <td>109</td>\n",
              "      <td>12</td>\n",
              "      <td>1</td>\n",
              "      <td>0</td>\n",
              "      <td>20</td>\n",
              "      <td>1</td>\n",
              "      <td>1</td>\n",
              "      <td>0.62</td>\n",
              "      <td>0.29</td>\n",
              "      <td>0.09</td>\n",
              "    </tr>\n",
              "    <tr>\n",
              "      <th>1</th>\n",
              "      <td>8776</td>\n",
              "      <td>functional</td>\n",
              "      <td>45</td>\n",
              "      <td>47</td>\n",
              "      <td>-2.15</td>\n",
              "      <td>4</td>\n",
              "      <td>12</td>\n",
              "      <td>1</td>\n",
              "      <td>1</td>\n",
              "      <td>0</td>\n",
              "      <td>2</td>\n",
              "      <td>6</td>\n",
              "      <td>2</td>\n",
              "      <td>5</td>\n",
              "      <td>1</td>\n",
              "      <td>34.70</td>\n",
              "      <td>1</td>\n",
              "      <td>2</td>\n",
              "      <td>1399</td>\n",
              "      <td>280</td>\n",
              "      <td>3</td>\n",
              "      <td>1</td>\n",
              "      <td>1</td>\n",
              "      <td>55</td>\n",
              "      <td>2</td>\n",
              "      <td>1</td>\n",
              "      <td>0.62</td>\n",
              "      <td>0.29</td>\n",
              "      <td>0.09</td>\n",
              "    </tr>\n",
              "    <tr>\n",
              "      <th>2</th>\n",
              "      <td>34310</td>\n",
              "      <td>functional</td>\n",
              "      <td>95</td>\n",
              "      <td>148</td>\n",
              "      <td>-3.82</td>\n",
              "      <td>5</td>\n",
              "      <td>13</td>\n",
              "      <td>1</td>\n",
              "      <td>1</td>\n",
              "      <td>0</td>\n",
              "      <td>5</td>\n",
              "      <td>6</td>\n",
              "      <td>1</td>\n",
              "      <td>0</td>\n",
              "      <td>2</td>\n",
              "      <td>37.46</td>\n",
              "      <td>1</td>\n",
              "      <td>7</td>\n",
              "      <td>686</td>\n",
              "      <td>250</td>\n",
              "      <td>4</td>\n",
              "      <td>2</td>\n",
              "      <td>0</td>\n",
              "      <td>52</td>\n",
              "      <td>1</td>\n",
              "      <td>0</td>\n",
              "      <td>0.48</td>\n",
              "      <td>0.47</td>\n",
              "      <td>0.04</td>\n",
              "    </tr>\n",
              "    <tr>\n",
              "      <th>3</th>\n",
              "      <td>67743</td>\n",
              "      <td>non functional</td>\n",
              "      <td>136</td>\n",
              "      <td>129</td>\n",
              "      <td>-11.16</td>\n",
              "      <td>7</td>\n",
              "      <td>25</td>\n",
              "      <td>1</td>\n",
              "      <td>11</td>\n",
              "      <td>5</td>\n",
              "      <td>2</td>\n",
              "      <td>6</td>\n",
              "      <td>0</td>\n",
              "      <td>3</td>\n",
              "      <td>2</td>\n",
              "      <td>38.49</td>\n",
              "      <td>1</td>\n",
              "      <td>7</td>\n",
              "      <td>263</td>\n",
              "      <td>58</td>\n",
              "      <td>27</td>\n",
              "      <td>2</td>\n",
              "      <td>1</td>\n",
              "      <td>76</td>\n",
              "      <td>1</td>\n",
              "      <td>0</td>\n",
              "      <td>0.48</td>\n",
              "      <td>0.47</td>\n",
              "      <td>0.04</td>\n",
              "    </tr>\n",
              "    <tr>\n",
              "      <th>4</th>\n",
              "      <td>19728</td>\n",
              "      <td>functional</td>\n",
              "      <td>95</td>\n",
              "      <td>7</td>\n",
              "      <td>-1.83</td>\n",
              "      <td>4</td>\n",
              "      <td>9</td>\n",
              "      <td>1</td>\n",
              "      <td>1</td>\n",
              "      <td>0</td>\n",
              "      <td>2</td>\n",
              "      <td>6</td>\n",
              "      <td>3</td>\n",
              "      <td>5</td>\n",
              "      <td>1</td>\n",
              "      <td>31.13</td>\n",
              "      <td>1</td>\n",
              "      <td>2</td>\n",
              "      <td>1328</td>\n",
              "      <td>532</td>\n",
              "      <td>15</td>\n",
              "      <td>0</td>\n",
              "      <td>1</td>\n",
              "      <td>22</td>\n",
              "      <td>2</td>\n",
              "      <td>1</td>\n",
              "      <td>0.62</td>\n",
              "      <td>0.29</td>\n",
              "      <td>0.09</td>\n",
              "    </tr>\n",
              "  </tbody>\n",
              "</table>\n",
              "</div>\n",
              "      <button class=\"colab-df-convert\" onclick=\"convertToInteractive('df-ed4c2dcf-24f9-4a4d-9bd2-190be74fbc56')\"\n",
              "              title=\"Convert this dataframe to an interactive table.\"\n",
              "              style=\"display:none;\">\n",
              "        \n",
              "  <svg xmlns=\"http://www.w3.org/2000/svg\" height=\"24px\"viewBox=\"0 0 24 24\"\n",
              "       width=\"24px\">\n",
              "    <path d=\"M0 0h24v24H0V0z\" fill=\"none\"/>\n",
              "    <path d=\"M18.56 5.44l.94 2.06.94-2.06 2.06-.94-2.06-.94-.94-2.06-.94 2.06-2.06.94zm-11 1L8.5 8.5l.94-2.06 2.06-.94-2.06-.94L8.5 2.5l-.94 2.06-2.06.94zm10 10l.94 2.06.94-2.06 2.06-.94-2.06-.94-.94-2.06-.94 2.06-2.06.94z\"/><path d=\"M17.41 7.96l-1.37-1.37c-.4-.4-.92-.59-1.43-.59-.52 0-1.04.2-1.43.59L10.3 9.45l-7.72 7.72c-.78.78-.78 2.05 0 2.83L4 21.41c.39.39.9.59 1.41.59.51 0 1.02-.2 1.41-.59l7.78-7.78 2.81-2.81c.8-.78.8-2.07 0-2.86zM5.41 20L4 18.59l7.72-7.72 1.47 1.35L5.41 20z\"/>\n",
              "  </svg>\n",
              "      </button>\n",
              "      \n",
              "  <style>\n",
              "    .colab-df-container {\n",
              "      display:flex;\n",
              "      flex-wrap:wrap;\n",
              "      gap: 12px;\n",
              "    }\n",
              "\n",
              "    .colab-df-convert {\n",
              "      background-color: #E8F0FE;\n",
              "      border: none;\n",
              "      border-radius: 50%;\n",
              "      cursor: pointer;\n",
              "      display: none;\n",
              "      fill: #1967D2;\n",
              "      height: 32px;\n",
              "      padding: 0 0 0 0;\n",
              "      width: 32px;\n",
              "    }\n",
              "\n",
              "    .colab-df-convert:hover {\n",
              "      background-color: #E2EBFA;\n",
              "      box-shadow: 0px 1px 2px rgba(60, 64, 67, 0.3), 0px 1px 3px 1px rgba(60, 64, 67, 0.15);\n",
              "      fill: #174EA6;\n",
              "    }\n",
              "\n",
              "    [theme=dark] .colab-df-convert {\n",
              "      background-color: #3B4455;\n",
              "      fill: #D2E3FC;\n",
              "    }\n",
              "\n",
              "    [theme=dark] .colab-df-convert:hover {\n",
              "      background-color: #434B5C;\n",
              "      box-shadow: 0px 1px 3px 1px rgba(0, 0, 0, 0.15);\n",
              "      filter: drop-shadow(0px 1px 2px rgba(0, 0, 0, 0.3));\n",
              "      fill: #FFFFFF;\n",
              "    }\n",
              "  </style>\n",
              "\n",
              "      <script>\n",
              "        const buttonEl =\n",
              "          document.querySelector('#df-ed4c2dcf-24f9-4a4d-9bd2-190be74fbc56 button.colab-df-convert');\n",
              "        buttonEl.style.display =\n",
              "          google.colab.kernel.accessAllowed ? 'block' : 'none';\n",
              "\n",
              "        async function convertToInteractive(key) {\n",
              "          const element = document.querySelector('#df-ed4c2dcf-24f9-4a4d-9bd2-190be74fbc56');\n",
              "          const dataTable =\n",
              "            await google.colab.kernel.invokeFunction('convertToInteractive',\n",
              "                                                     [key], {});\n",
              "          if (!dataTable) return;\n",
              "\n",
              "          const docLinkHtml = 'Like what you see? Visit the ' +\n",
              "            '<a target=\"_blank\" href=https://colab.research.google.com/notebooks/data_table.ipynb>data table notebook</a>'\n",
              "            + ' to learn more about interactive tables.';\n",
              "          element.innerHTML = '';\n",
              "          dataTable['output_type'] = 'display_data';\n",
              "          await google.colab.output.renderOutput(dataTable, element);\n",
              "          const docLink = document.createElement('div');\n",
              "          docLink.innerHTML = docLinkHtml;\n",
              "          element.appendChild(docLink);\n",
              "        }\n",
              "      </script>\n",
              "    </div>\n",
              "  </div>\n",
              "  "
            ],
            "text/plain": [
              "      id  ... Functional need repair pumps (%)\n",
              "0  69572  ...                             0.09\n",
              "1   8776  ...                             0.09\n",
              "2  34310  ...                             0.04\n",
              "3  67743  ...                             0.04\n",
              "4  19728  ...                             0.09\n",
              "\n",
              "[5 rows x 29 columns]"
            ]
          },
          "metadata": {},
          "execution_count": 42
        }
      ]
    },
    {
      "cell_type": "markdown",
      "source": [
        "####**Baseline model performance**"
      ],
      "metadata": {
        "id": "yZc1tQvjBMV9"
      }
    },
    {
      "cell_type": "code",
      "source": [
        "#define the models\n",
        "models=[LogisticRegression(max_iter = 1000000,  random_state=42),\n",
        "        KNeighborsClassifier(),\n",
        "        DecisionTreeClassifier( random_state=42),\n",
        "       RandomForestClassifier( random_state=42),\n",
        "       XGBClassifier( random_state=42),\n",
        "        BaggingClassifier( random_state=42), \n",
        "        AdaBoostClassifier( random_state=42),\n",
        "        GradientBoostingClassifier( random_state=42),\n",
        "       CatBoostClassifier( random_state=42)]\n",
        "\n",
        "#create a list of model names\n",
        "names =['Logistic Regression', 'KNN Classifier', 'Decision Tree Classifier', 'Random Forest Classifier',  'XGB Classifier', 'Bagging Classifier', 'AdaBoost Classifier', 'Gradient Boosting Classifier', 'Catboost Classifier']\n",
        "\n",
        "#create empty lists for the accuracy and standard deviation\n",
        "accuracy=[]\n",
        "std = []\n",
        "\n",
        "#peform 10-fold cross validaton on each model and append the results to the list\n",
        "for model in models:\n",
        "  cv = KFold(n_splits=10, shuffle = True,  random_state=1)\n",
        "  n_scores = cross_val_score(model, X, y, scoring='accuracy', cv=cv, n_jobs=-1, error_score='raise')\n",
        "  mean_score = np.mean(n_scores)\n",
        "  std_score = np.std(n_scores)\n",
        "  accuracy.append(mean_score)\n",
        "  std.append(std_score)\n",
        "\n",
        "#create a dataframe of the model performances\n",
        "d = {'Model':names,'Accuracy':accuracy, 'Std':std}   \n",
        "score_df = pd.DataFrame(d)\n",
        "score_df"
      ],
      "metadata": {
        "colab": {
          "base_uri": "https://localhost:8080/",
          "height": 331
        },
        "id": "RiFJYa-PAzd9",
        "outputId": "17171aae-484f-4646-d365-1e32f4c302db"
      },
      "execution_count": null,
      "outputs": [
        {
          "output_type": "execute_result",
          "data": {
            "text/html": [
              "\n",
              "  <div id=\"df-3d31554a-f748-4b44-a407-0bbd89f111f7\">\n",
              "    <div class=\"colab-df-container\">\n",
              "      <div>\n",
              "<style scoped>\n",
              "    .dataframe tbody tr th:only-of-type {\n",
              "        vertical-align: middle;\n",
              "    }\n",
              "\n",
              "    .dataframe tbody tr th {\n",
              "        vertical-align: top;\n",
              "    }\n",
              "\n",
              "    .dataframe thead th {\n",
              "        text-align: right;\n",
              "    }\n",
              "</style>\n",
              "<table border=\"1\" class=\"dataframe\">\n",
              "  <thead>\n",
              "    <tr style=\"text-align: right;\">\n",
              "      <th></th>\n",
              "      <th>Model</th>\n",
              "      <th>Accuracy</th>\n",
              "      <th>Std</th>\n",
              "    </tr>\n",
              "  </thead>\n",
              "  <tbody>\n",
              "    <tr>\n",
              "      <th>0</th>\n",
              "      <td>Logistic Regression</td>\n",
              "      <td>0.666510</td>\n",
              "      <td>0.006001</td>\n",
              "    </tr>\n",
              "    <tr>\n",
              "      <th>1</th>\n",
              "      <td>KNN Classifier</td>\n",
              "      <td>0.701140</td>\n",
              "      <td>0.007301</td>\n",
              "    </tr>\n",
              "    <tr>\n",
              "      <th>2</th>\n",
              "      <td>Decision Tree Classifier</td>\n",
              "      <td>0.756158</td>\n",
              "      <td>0.004169</td>\n",
              "    </tr>\n",
              "    <tr>\n",
              "      <th>3</th>\n",
              "      <td>Random Forest Classifier</td>\n",
              "      <td>0.804121</td>\n",
              "      <td>0.004219</td>\n",
              "    </tr>\n",
              "    <tr>\n",
              "      <th>4</th>\n",
              "      <td>XGB Classifier</td>\n",
              "      <td>0.742740</td>\n",
              "      <td>0.005622</td>\n",
              "    </tr>\n",
              "    <tr>\n",
              "      <th>5</th>\n",
              "      <td>Bagging Classifier</td>\n",
              "      <td>0.793599</td>\n",
              "      <td>0.003323</td>\n",
              "    </tr>\n",
              "    <tr>\n",
              "      <th>6</th>\n",
              "      <td>AdaBoost Classifier</td>\n",
              "      <td>0.723985</td>\n",
              "      <td>0.005083</td>\n",
              "    </tr>\n",
              "    <tr>\n",
              "      <th>7</th>\n",
              "      <td>Gradient Boosting Classifier</td>\n",
              "      <td>0.751174</td>\n",
              "      <td>0.005385</td>\n",
              "    </tr>\n",
              "    <tr>\n",
              "      <th>8</th>\n",
              "      <td>Catboost Classifier</td>\n",
              "      <td>0.796428</td>\n",
              "      <td>0.003599</td>\n",
              "    </tr>\n",
              "  </tbody>\n",
              "</table>\n",
              "</div>\n",
              "      <button class=\"colab-df-convert\" onclick=\"convertToInteractive('df-3d31554a-f748-4b44-a407-0bbd89f111f7')\"\n",
              "              title=\"Convert this dataframe to an interactive table.\"\n",
              "              style=\"display:none;\">\n",
              "        \n",
              "  <svg xmlns=\"http://www.w3.org/2000/svg\" height=\"24px\"viewBox=\"0 0 24 24\"\n",
              "       width=\"24px\">\n",
              "    <path d=\"M0 0h24v24H0V0z\" fill=\"none\"/>\n",
              "    <path d=\"M18.56 5.44l.94 2.06.94-2.06 2.06-.94-2.06-.94-.94-2.06-.94 2.06-2.06.94zm-11 1L8.5 8.5l.94-2.06 2.06-.94-2.06-.94L8.5 2.5l-.94 2.06-2.06.94zm10 10l.94 2.06.94-2.06 2.06-.94-2.06-.94-.94-2.06-.94 2.06-2.06.94z\"/><path d=\"M17.41 7.96l-1.37-1.37c-.4-.4-.92-.59-1.43-.59-.52 0-1.04.2-1.43.59L10.3 9.45l-7.72 7.72c-.78.78-.78 2.05 0 2.83L4 21.41c.39.39.9.59 1.41.59.51 0 1.02-.2 1.41-.59l7.78-7.78 2.81-2.81c.8-.78.8-2.07 0-2.86zM5.41 20L4 18.59l7.72-7.72 1.47 1.35L5.41 20z\"/>\n",
              "  </svg>\n",
              "      </button>\n",
              "      \n",
              "  <style>\n",
              "    .colab-df-container {\n",
              "      display:flex;\n",
              "      flex-wrap:wrap;\n",
              "      gap: 12px;\n",
              "    }\n",
              "\n",
              "    .colab-df-convert {\n",
              "      background-color: #E8F0FE;\n",
              "      border: none;\n",
              "      border-radius: 50%;\n",
              "      cursor: pointer;\n",
              "      display: none;\n",
              "      fill: #1967D2;\n",
              "      height: 32px;\n",
              "      padding: 0 0 0 0;\n",
              "      width: 32px;\n",
              "    }\n",
              "\n",
              "    .colab-df-convert:hover {\n",
              "      background-color: #E2EBFA;\n",
              "      box-shadow: 0px 1px 2px rgba(60, 64, 67, 0.3), 0px 1px 3px 1px rgba(60, 64, 67, 0.15);\n",
              "      fill: #174EA6;\n",
              "    }\n",
              "\n",
              "    [theme=dark] .colab-df-convert {\n",
              "      background-color: #3B4455;\n",
              "      fill: #D2E3FC;\n",
              "    }\n",
              "\n",
              "    [theme=dark] .colab-df-convert:hover {\n",
              "      background-color: #434B5C;\n",
              "      box-shadow: 0px 1px 3px 1px rgba(0, 0, 0, 0.15);\n",
              "      filter: drop-shadow(0px 1px 2px rgba(0, 0, 0, 0.3));\n",
              "      fill: #FFFFFF;\n",
              "    }\n",
              "  </style>\n",
              "\n",
              "      <script>\n",
              "        const buttonEl =\n",
              "          document.querySelector('#df-3d31554a-f748-4b44-a407-0bbd89f111f7 button.colab-df-convert');\n",
              "        buttonEl.style.display =\n",
              "          google.colab.kernel.accessAllowed ? 'block' : 'none';\n",
              "\n",
              "        async function convertToInteractive(key) {\n",
              "          const element = document.querySelector('#df-3d31554a-f748-4b44-a407-0bbd89f111f7');\n",
              "          const dataTable =\n",
              "            await google.colab.kernel.invokeFunction('convertToInteractive',\n",
              "                                                     [key], {});\n",
              "          if (!dataTable) return;\n",
              "\n",
              "          const docLinkHtml = 'Like what you see? Visit the ' +\n",
              "            '<a target=\"_blank\" href=https://colab.research.google.com/notebooks/data_table.ipynb>data table notebook</a>'\n",
              "            + ' to learn more about interactive tables.';\n",
              "          element.innerHTML = '';\n",
              "          dataTable['output_type'] = 'display_data';\n",
              "          await google.colab.output.renderOutput(dataTable, element);\n",
              "          const docLink = document.createElement('div');\n",
              "          docLink.innerHTML = docLinkHtml;\n",
              "          element.appendChild(docLink);\n",
              "        }\n",
              "      </script>\n",
              "    </div>\n",
              "  </div>\n",
              "  "
            ],
            "text/plain": [
              "                          Model  Accuracy       Std\n",
              "0           Logistic Regression  0.666510  0.006001\n",
              "1                KNN Classifier  0.701140  0.007301\n",
              "2      Decision Tree Classifier  0.756158  0.004169\n",
              "3      Random Forest Classifier  0.804121  0.004219\n",
              "4                XGB Classifier  0.742740  0.005622\n",
              "5            Bagging Classifier  0.793599  0.003323\n",
              "6           AdaBoost Classifier  0.723985  0.005083\n",
              "7  Gradient Boosting Classifier  0.751174  0.005385\n",
              "8           Catboost Classifier  0.796428  0.003599"
            ]
          },
          "metadata": {},
          "execution_count": 43
        }
      ]
    },
    {
      "cell_type": "markdown",
      "source": [
        "### **2.3 Experiment 2 - Specialized models**"
      ],
      "metadata": {
        "id": "gSI4DmYlB3Gx"
      }
    },
    {
      "cell_type": "markdown",
      "source": [
        "Is it possible to create three sepperate models that are each specialized in predicting one of the three classes and combining them together to create a final prediction? "
      ],
      "metadata": {
        "id": "Rc66xuhaB9IM"
      }
    },
    {
      "cell_type": "code",
      "source": [
        "#create a copy of the dataset\n",
        "train_set_sp = train_set.copy()\n",
        "\n",
        "#define X and y for training the model\n",
        "X= train_set_sp.drop(['id', 'status_group'], axis=1)\n",
        "y = train_set_sp['status_group']"
      ],
      "metadata": {
        "id": "bqk1T3tADEna"
      },
      "execution_count": null,
      "outputs": []
    },
    {
      "cell_type": "code",
      "source": [
        "#step 1: create three different y variables\n",
        "\n",
        "#functional y:  functional =1, other classes are 0\n",
        "y_functional = y.copy()\n",
        "y_functional = y_functional .replace(['non functional'], 0)\n",
        "y_functional  = y_functional.replace('functional needs repair', 0)\n",
        "y_functional  = y_functional.replace('functional', 1)\n",
        "\n",
        "#non-fuctional y: non-functional =1, other classes are 0\n",
        "y_non_functional = y.copy()\n",
        "y_non_functional = y_non_functional.replace(['non functional'], 1)\n",
        "y_non_functional  = y_non_functional.replace('functional needs repair', 0)\n",
        "y_non_functional = y_non_functional.replace('functional', 0)\n",
        "\n",
        "#repair y: repair = 1, other classes are 0\n",
        "y_repair = y.copy()\n",
        "y_repair = y_repair.replace(['non functional'], 0)\n",
        "y_repair  = y_repair.replace('functional needs repair', 1)\n",
        "y_repair = y_repair.replace('functional', 0)"
      ],
      "metadata": {
        "id": "SirvbdMcB2Ik"
      },
      "execution_count": null,
      "outputs": []
    },
    {
      "cell_type": "markdown",
      "source": [
        "Note: the best models provided below were created using a slightly different subset of features and a different encoding strategy. The hyperparamter settings may not be the optimal parameters for the current dataset. "
      ],
      "metadata": {
        "id": "R8Aw-qpgEtZy"
      }
    },
    {
      "cell_type": "markdown",
      "source": [
        "#### **Functional model**"
      ],
      "metadata": {
        "id": "1YE2qSyeDrIA"
      }
    },
    {
      "cell_type": "code",
      "source": [
        "#running this script on Google Colab takes too long\n",
        "\n",
        "# Create training and test sets: test size 0.2\n",
        "X_train, X_test, y_train, y_test= train_test_split(X, y_functional, test_size = 0.2, random_state=42)\n",
        "\n",
        "\n",
        "param_grid = { 'n_estimators': [ 180, 200, 220, ],\n",
        "             'max_features':['log2', ],\n",
        "             'max_depth' : [70, 80, 90, 100],\n",
        "             'min_samples_split':[ 7, 8,9]}\n",
        "\n",
        "\n",
        "#Create a based model\n",
        "rf =     RandomForestClassifier( random_state=42, warm_start = True)  \n",
        "\n",
        "grid_search_rf = GridSearchCV(estimator = rf, param_grid = param_grid, cv = 5,  verbose = 2,  scoring = 'accuracy')\n",
        "\n",
        "#fitmodel\n",
        "grid_search_rf .fit(X_train, y_train)\n",
        "\n",
        "#print best parameters \n",
        "print('Best Score:', grid_search_rf .best_score_)\n",
        "print('Parameters:', grid_search_rf .best_params_)\n",
        "print('Best Model:', grid_search_rf .best_estimator_)\n",
        "\n"
      ],
      "metadata": {
        "id": "qEN_Z9TJDp7K"
      },
      "execution_count": null,
      "outputs": []
    },
    {
      "cell_type": "code",
      "source": [
        "#score model\n",
        "best_model = RandomForestClassifier(max_depth=70, max_features='log2', min_samples_split=7, n_estimators=180, random_state=42, warm_start=True)\n",
        "\n",
        "X_train, X_test, y_train, y_test= train_test_split(X, y_functional, test_size = 0.2, random_state=42 , stratify=y_functional)\n",
        "\n",
        "#fit the best model\n",
        "best_model.fit(X_train, y_train)\n",
        "y_pred = best_model.predict(X_test)\n",
        "y_pred_train = best_model.predict(X_train)\n",
        "\n",
        "\n",
        "#print best model scores on test data\n",
        "print(\"Accuracy score train: {}\".format(accuracy_score(y_train, y_pred_train)))\n",
        "print(\"Accuracy score test: {}\".format(accuracy_score(y_test, y_pred)))\n",
        "print()\n",
        "\n",
        "#print(confusion_matrix(y_test, y_pred))\n",
        "print(classification_report(y_test, y_pred))\n",
        "\n",
        "feature_importances(best_model)\n",
        "\n",
        "confusion_matrix_plotter(y_test, y_pred)"
      ],
      "metadata": {
        "colab": {
          "base_uri": "https://localhost:8080/",
          "height": 1000
        },
        "id": "LLJ1CK00VBw6",
        "outputId": "9962b4ad-681a-49ae-8f28-44733a04bb19"
      },
      "execution_count": null,
      "outputs": [
        {
          "output_type": "stream",
          "name": "stdout",
          "text": [
            "Accuracy score train: 0.9417496159430965\n",
            "Accuracy score test: 0.8283670033670034\n",
            "\n",
            "              precision    recall  f1-score   support\n",
            "\n",
            "           0       0.84      0.77      0.80      5428\n",
            "           1       0.82      0.87      0.85      6452\n",
            "\n",
            "    accuracy                           0.83     11880\n",
            "   macro avg       0.83      0.82      0.83     11880\n",
            "weighted avg       0.83      0.83      0.83     11880\n",
            "\n"
          ]
        },
        {
          "output_type": "display_data",
          "data": {
            "image/png": "[encoded data removed]",
            "text/plain": [
              "<Figure size 720x720 with 1 Axes>"
            ]
          },
          "metadata": {
            "needs_background": "light"
          }
        },
        {
          "output_type": "display_data",
          "data": {
            "image/png": "[encoded data removed]",
            "text/plain": [
              "<Figure size 576x360 with 2 Axes>"
            ]
          },
          "metadata": {
            "needs_background": "light"
          }
        }
      ]
    },
    {
      "cell_type": "code",
      "source": [
        ""
      ],
      "metadata": {
        "id": "qTH0x8Kvcalj"
      },
      "execution_count": null,
      "outputs": []
    },
    {
      "cell_type": "markdown",
      "source": [
        "#### **Non-functional model**"
      ],
      "metadata": {
        "id": "NeCeUueWEU2F"
      }
    },
    {
      "cell_type": "code",
      "source": [
        "# Create training and test sets: test size 0.2\n",
        "X_train, X_test, y_train, y_test= train_test_split(X, y_non_functional, test_size = 0.2, random_state=42)\n",
        "\n",
        "param_grid = { 'n_estimators': [ 180, 200, 220, ],\n",
        "             'max_features':['sqrt' ],\n",
        "             'max_depth' : [30,40,50],\n",
        "             'min_samples_split':[ 4,5,6]}\n",
        "\n",
        "#Create a based model\n",
        "rf =     RandomForestClassifier( random_state=42, warm_start = True)  \n",
        "\n",
        "grid_search_rf = GridSearchCV(estimator = rf, param_grid = param_grid, cv = 5,  verbose = 2,  scoring = 'accuracy')\n",
        "\n",
        "#fitmodel\n",
        "grid_search_rf .fit(X_train, y_train)\n",
        "\n",
        "#print best parameters \n",
        "print('Best Score:', grid_search_rf .best_score_)\n",
        "print('Parameters:', grid_search_rf .best_params_)\n",
        "print('Best Model:', grid_search_rf .best_estimator_)\n"
      ],
      "metadata": {
        "id": "rmevHBJIEWtp"
      },
      "execution_count": null,
      "outputs": []
    },
    {
      "cell_type": "code",
      "source": [
        "#score model\n",
        "best_model =  RandomForestClassifier(max_depth=30, max_features='sqrt', min_samples_split=5,   n_estimators=180, random_state=42, warm_start=True)\n",
        "\n",
        "X_train, X_test, y_train, y_test= train_test_split(X, y_non_functional, test_size = 0.2, random_state=42 , stratify=y_non_functional)\n",
        "\n",
        "#fit the best model\n",
        "best_model.fit(X_train, y_train)\n",
        "y_pred = best_model.predict(X_test)\n",
        "y_pred_train = best_model.predict(X_train)\n",
        "\n",
        "\n",
        "#print best model scores on test data\n",
        "print(\"Accuracy score train: {}\".format(accuracy_score(y_train, y_pred_train)))\n",
        "print(\"Accuracy score test: {}\".format(accuracy_score(y_test, y_pred)))\n",
        "print()\n",
        "\n",
        "#print(confusion_matrix(y_test, y_pred))\n",
        "print(classification_report(y_test, y_pred))\n",
        "\n",
        "feature_importances(best_model)\n",
        "\n",
        "confusion_matrix_plotter(y_test, y_pred)"
      ],
      "metadata": {
        "colab": {
          "base_uri": "https://localhost:8080/",
          "height": 1000
        },
        "id": "BQWslrAmEYI5",
        "outputId": "99219456-7538-4269-d67a-c7873cbb7279"
      },
      "execution_count": null,
      "outputs": [
        {
          "output_type": "stream",
          "name": "stdout",
          "text": [
            "Accuracy score train: 0.9612365580083756\n",
            "Accuracy score test: 0.8640572390572391\n",
            "\n",
            "              precision    recall  f1-score   support\n",
            "\n",
            "           0       0.86      0.92      0.89      7315\n",
            "           1       0.86      0.77      0.81      4565\n",
            "\n",
            "    accuracy                           0.86     11880\n",
            "   macro avg       0.86      0.85      0.85     11880\n",
            "weighted avg       0.86      0.86      0.86     11880\n",
            "\n"
          ]
        },
        {
          "output_type": "display_data",
          "data": {
            "image/png": "[encoded data removed]",
            "text/plain": [
              "<Figure size 720x720 with 1 Axes>"
            ]
          },
          "metadata": {
            "needs_background": "light"
          }
        },
        {
          "output_type": "display_data",
          "data": {
            "image/png": "[encoded data removed]",
            "text/plain": [
              "<Figure size 576x360 with 2 Axes>"
            ]
          },
          "metadata": {
            "needs_background": "light"
          }
        }
      ]
    },
    {
      "cell_type": "code",
      "source": [
        ""
      ],
      "metadata": {
        "id": "KHfeovTXdqKo"
      },
      "execution_count": null,
      "outputs": []
    },
    {
      "cell_type": "markdown",
      "source": [
        "#### **Funtional need repair model**"
      ],
      "metadata": {
        "id": "CiOTKtEhFUhC"
      }
    },
    {
      "cell_type": "code",
      "source": [
        "# Create training and test sets: test size 0.2\n",
        "X_train, X_test, y_train, y_test= train_test_split(X, y_repair, test_size = 0.2, random_state=42, stratify = y_repair)\n",
        "\n",
        "param_grid = { 'n_estimators': [  125, 150, 175],\n",
        "             'max_features':['sqrt'],\n",
        "             'max_depth' : [12,15, 17 ,20, 25, 30],\n",
        "             'min_samples_split':[18,9,10]}\n",
        "\n",
        "\n",
        "\n",
        "#Create a based model\n",
        "rf =     RandomForestClassifier( random_state=42, warm_start = True)  \n",
        "\n",
        "grid_search_rf = GridSearchCV(estimator = rf, param_grid = param_grid, cv = 5,  verbose = 2,  scoring = 'accuracy')\n",
        "\n",
        "#fitmodel\n",
        "grid_search_rf .fit(X_train, y_train)\n",
        "\n",
        "#print best parameters \n",
        "print('Best Score:', grid_search_rf .best_score_)\n",
        "print('Parameters:', grid_search_rf .best_params_)\n",
        "print('Best Model:', grid_search_rf .best_estimator_)\n"
      ],
      "metadata": {
        "id": "hmox9Eq5FYiJ"
      },
      "execution_count": null,
      "outputs": []
    },
    {
      "cell_type": "code",
      "source": [
        "#score model\n",
        "best_model =  RandomForestClassifier(max_depth=20, max_features='sqrt', min_samples_split=9,  n_estimators=125, random_state=42, warm_start=True)\n",
        "\n",
        "X_train, X_test, y_train, y_test= train_test_split(X, y_repair, test_size = 0.2, random_state=42 , stratify=y_repair)\n",
        "\n",
        "#fit the best model\n",
        "best_model.fit(X_train, y_train)\n",
        "y_pred = best_model.predict(X_test)\n",
        "y_pred_train = best_model.predict(X_train)\n",
        "\n",
        "\n",
        "#print best model scores on test data\n",
        "print(\"Accuracy score train: {}\".format(accuracy_score(y_train, y_pred_train)))\n",
        "print(\"Accuracy score test: {}\".format(accuracy_score(y_test, y_pred)))\n",
        "print()\n",
        "\n",
        "#print(confusion_matrix(y_test, y_pred))\n",
        "print(classification_report(y_test, y_pred))\n",
        "\n",
        "feature_importances(best_model)\n",
        "\n",
        "confusion_matrix_plotter(y_test, y_pred)"
      ],
      "metadata": {
        "colab": {
          "base_uri": "https://localhost:8080/",
          "height": 1000
        },
        "id": "Fc_bGkXpFWqw",
        "outputId": "30d1cfac-2563-4f59-d45d-09134af69a1f"
      },
      "execution_count": null,
      "outputs": [
        {
          "output_type": "stream",
          "name": "stdout",
          "text": [
            "Accuracy score train: 0.9510511584839748\n",
            "Accuracy score test: 0.937962962962963\n",
            "\n",
            "              precision    recall  f1-score   support\n",
            "\n",
            "           0       0.94      0.99      0.97     11017\n",
            "           1       0.75      0.22      0.34       863\n",
            "\n",
            "    accuracy                           0.94     11880\n",
            "   macro avg       0.84      0.61      0.65     11880\n",
            "weighted avg       0.93      0.94      0.92     11880\n",
            "\n"
          ]
        },
        {
          "output_type": "display_data",
          "data": {
            "image/png": "[encoded data removed]",
            "text/plain": [
              "<Figure size 720x720 with 1 Axes>"
            ]
          },
          "metadata": {
            "needs_background": "light"
          }
        },
        {
          "output_type": "display_data",
          "data": {
            "image/png": "[encoded data removed]",
            "text/plain": [
              "<Figure size 576x360 with 2 Axes>"
            ]
          },
          "metadata": {
            "needs_background": "light"
          }
        }
      ]
    },
    {
      "cell_type": "code",
      "source": [
        ""
      ],
      "metadata": {
        "id": "XgyRENmrd3SR"
      },
      "execution_count": null,
      "outputs": []
    },
    {
      "cell_type": "markdown",
      "source": [
        "####**Stacking together**"
      ],
      "metadata": {
        "id": "RAckixhoGBdH"
      }
    },
    {
      "cell_type": "code",
      "source": [
        "#tuned models\n",
        "functional = RandomForestClassifier(max_depth=70, max_features='log2', min_samples_split=7,  n_estimators=180, random_state=42, warm_start=True)\n",
        "non_functional = RandomForestClassifier(max_depth=30, max_features='sqrt', min_samples_split=5, n_estimators=180, random_state=42, warm_start=True)\n",
        "repair = RandomForestClassifier(max_depth=20, max_features='sqrt', min_samples_split=9,    n_estimators=125, random_state=42, warm_start=True)\n"
      ],
      "metadata": {
        "id": "hjUZLkg0GACn"
      },
      "execution_count": null,
      "outputs": []
    },
    {
      "cell_type": "code",
      "source": [
        "#y cannot be categorical so we have to relabel it\n",
        "y_encoded = y.copy()\n",
        "y_encoded = y_encoded.replace(['non functional'], 0)\n",
        "y_encoded  = y_encoded.replace('functional needs repair', 1)\n",
        "y_encoded = y_encoded.replace('functional', 2)"
      ],
      "metadata": {
        "id": "N3erM4CwGgHH"
      },
      "execution_count": null,
      "outputs": []
    },
    {
      "cell_type": "code",
      "source": [
        "#create stacking classifier\n",
        "stack = StackingClassifier([('functional', functional), ('non_functional', non_functional), ('repair', repair)])\n",
        "\n",
        "# Create training and test sets: test size 0.2\n",
        "X_train, X_test, y_train, y_test= train_test_split(X, y_encoded, test_size = 0.2, random_state=42)\n",
        "\n",
        "# fitting the model\n",
        "stack.fit(X_train, y_train)\n",
        "\n",
        "# make predictions for test data\n",
        "y_pred = stack.predict(X_test)\n",
        "y_pred_train = stack.predict(X_train)\n",
        "\n",
        "\n",
        "#print best model scores on test data\n",
        "print(\"Accuracy score train: {}\".format(accuracy_score(y_train, y_pred_train)))\n",
        "print(\"Accuracy score test: {}\".format(accuracy_score(y_test, y_pred)))\n",
        "print()\n",
        "\n",
        "#print(confusion_matrix(y_test, y_pred))\n",
        "print(classification_report(y_test, y_pred))\n",
        "\n",
        "confusion_matrix_plotter(y_test, y_pred)"
      ],
      "metadata": {
        "colab": {
          "base_uri": "https://localhost:8080/",
          "height": 561
        },
        "id": "G2eCk8hcGJ4Y",
        "outputId": "12a82821-425e-4bba-a007-0089c182218d"
      },
      "execution_count": null,
      "outputs": [
        {
          "output_type": "stream",
          "name": "stdout",
          "text": [
            "Accuracy score train: 0.9101412066752247\n",
            "Accuracy score test: 0.8087542087542088\n",
            "\n",
            "              precision    recall  f1-score   support\n",
            "\n",
            "           0       0.84      0.78      0.81      4559\n",
            "           1       0.60      0.30      0.40       845\n",
            "           2       0.80      0.90      0.85      6476\n",
            "\n",
            "    accuracy                           0.81     11880\n",
            "   macro avg       0.75      0.66      0.68     11880\n",
            "weighted avg       0.80      0.81      0.80     11880\n",
            "\n"
          ]
        },
        {
          "output_type": "display_data",
          "data": {
            "image/png": "[encoded data removed]",
            "text/plain": [
              "<Figure size 576x360 with 2 Axes>"
            ]
          },
          "metadata": {
            "needs_background": "light"
          }
        }
      ]
    },
    {
      "cell_type": "code",
      "source": [
        ""
      ],
      "metadata": {
        "id": "fBVvZ-H3VSFx"
      },
      "execution_count": null,
      "outputs": []
    }
  ]
}